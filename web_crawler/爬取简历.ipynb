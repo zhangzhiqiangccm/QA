{
 "cells": [
  {
   "cell_type": "code",
   "execution_count": 1,
   "metadata": {},
   "outputs": [],
   "source": [
    "import time\n",
    "import requests\n",
    "from lxml import etree\n",
    "import pprint\n",
    "\n",
    "index_url = 'https://sc.chinaz.com/jianli/free.html'\n",
    "\n",
    "headers = {\n",
    "    'User-Agent': 'Mozilla/5.0 (Windows NT 10.0; Win64; x64) AppleWebKit/537.36 (KHTML, like Gecko) Chrome/90.0.4430.72 Safari/537.36 Edg/90.0.818.42',\n",
    "}"
   ]
  },
  {
   "cell_type": "code",
   "execution_count": 2,
   "metadata": {},
   "outputs": [],
   "source": [
    "# 因为本次项目需要先请求目录页，再请求详情页，最后再请求文件下载链接，可能还要实现翻页\n",
    "# 所以封装一个函数，方便重复使用\n",
    "def request(url):\n",
    "    try:\n",
    "        r = requests.get(url, headers=headers)\n",
    "        if r.status_code == 200:\n",
    "            return r \n",
    "        else:\n",
    "            print('Non 200 status code')\n",
    "            return ''\n",
    "    except Exception as err:\n",
    "        print('crawler error：' + err)\n"
   ]
  },
  {
   "cell_type": "code",
   "execution_count": 3,
   "metadata": {},
   "outputs": [],
   "source": [
    "# 爬取目录页中详情页的url。\n",
    "def get_detail_link(url):\n",
    "    response = request(url)\n",
    "    tree = etree.HTML(response.text)\n",
    "    detail_link = tree.xpath('//*[@id=\"container\"]/div/p/a/@href')\n",
    "    detall_link_list = ['https:' + i for i in detail_link]  # url拼接\n",
    "    return detall_link_list"
   ]
  },
  {
   "cell_type": "code",
   "execution_count": 4,
   "metadata": {},
   "outputs": [],
   "source": [
    "def download_document(url):\n",
    "    r = request(url)\n",
    "    tree = etree.HTML(r.content.decode('utf-8'))\n",
    "    document_name = tree.xpath('//h1/text()')[0]\n",
    "    document_link = tree.xpath('//*[@id=\"down\"]/div[2]/ul/li[1]/a/@href')[0]\n",
    "    document_type = document_link[-3:]\n",
    "    document_content = request(document_link)\n",
    "    print(f\"开始下载{document_name}。\")\n",
    "    with open(f'{document_name}.{document_type}', 'wb')as f:\n",
    "        f.write(document_content.content)\n",
    "    print(f\"{document_name}下载结束！\")"
   ]
  },
  {
   "cell_type": "code",
   "execution_count": 5,
   "metadata": {},
   "outputs": [],
   "source": [
    "def run():\n",
    "    for link in get_detail_link(index_url):\n",
    "        download_document(link)"
   ]
  },
  {
   "cell_type": "code",
   "execution_count": 6,
   "metadata": {},
   "outputs": [
    {
     "name": "stdout",
     "output_type": "stream",
     "text": [
      "开始下载机械类个人简历表格模板。\n",
      "机械类个人简历表格模板下载结束！\n",
      "开始下载 实习教师岗位简历模板下载。\n",
      " 实习教师岗位简历模板下载下载结束！\n",
      "开始下载电话客服简历自我评价。\n",
      "电话客服简历自我评价下载结束！\n",
      "开始下载 行政通用英文简历模板。\n",
      " 行政通用英文简历模板下载结束！\n",
      "开始下载建筑设计师求职简历word模板。\n",
      "建筑设计师求职简历word模板下载结束！\n",
      "开始下载 中学语文老师简历表格模板。\n",
      " 中学语文老师简历表格模板下载结束！\n",
      "开始下载机械工程专业毕业生简历模板。\n",
      "机械工程专业毕业生简历模板下载结束！\n",
      "开始下载炫彩毕业生简历模板封面。\n",
      "炫彩毕业生简历模板封面下载结束！\n",
      "开始下载外企英文个人求职简历模板。\n",
      "外企英文个人求职简历模板下载结束！\n",
      "开始下载 心理咨询师简历word模板下载。\n",
      " 心理咨询师简历word模板下载下载结束！\n",
      "开始下载程序员简历表格模板下载。\n",
      "程序员简历表格模板下载下载结束！\n",
      "开始下载 音乐专业求职简历封面模板。\n",
      " 音乐专业求职简历封面模板下载结束！\n",
      "开始下载行政文秘简历表格模板下载。\n",
      "行政文秘简历表格模板下载下载结束！\n",
      "开始下载 投行实习生求职简历模板。\n",
      " 投行实习生求职简历模板下载结束！\n",
      "开始下载银行信贷岗位个人简历模板。\n",
      "银行信贷岗位个人简历模板下载结束！\n",
      "开始下载  证券金融产品研究个人简历模板。\n",
      "  证券金融产品研究个人简历模板下载结束！\n",
      "开始下载公关策划简历模板下载。\n",
      "公关策划简历模板下载下载结束！\n",
      "开始下载 通信设计工程师简历模板下载。\n",
      " 通信设计工程师简历模板下载下载结束！\n",
      "开始下载保险产品开发个人简历模板。\n",
      "保险产品开发个人简历模板下载结束！\n",
      "开始下载 初级网络代表个人简历模板。\n",
      " 初级网络代表个人简历模板下载结束！\n"
     ]
    }
   ],
   "source": [
    "run()"
   ]
  },
  {
   "cell_type": "code",
   "execution_count": 7,
   "metadata": {},
   "outputs": [
    {
     "name": "stdout",
     "output_type": "stream",
     "text": [
      "开始下载机械类个人简历表格模板。\n",
      "机械类个人简历表格模板下载结束！\n",
      "开始下载 实习教师岗位简历模板下载。\n",
      " 实习教师岗位简历模板下载下载结束！\n",
      "开始下载电话客服简历自我评价。\n",
      "电话客服简历自我评价下载结束！\n",
      "开始下载 行政通用英文简历模板。\n",
      " 行政通用英文简历模板下载结束！\n",
      "开始下载建筑设计师求职简历word模板。\n",
      "建筑设计师求职简历word模板下载结束！\n",
      "开始下载 中学语文老师简历表格模板。\n",
      " 中学语文老师简历表格模板下载结束！\n",
      "开始下载机械工程专业毕业生简历模板。\n",
      "机械工程专业毕业生简历模板下载结束！\n",
      "开始下载炫彩毕业生简历模板封面。\n",
      "炫彩毕业生简历模板封面下载结束！\n",
      "开始下载外企英文个人求职简历模板。\n",
      "外企英文个人求职简历模板下载结束！\n",
      "开始下载 心理咨询师简历word模板下载。\n",
      " 心理咨询师简历word模板下载下载结束！\n",
      "开始下载程序员简历表格模板下载。\n",
      "程序员简历表格模板下载下载结束！\n",
      "开始下载 音乐专业求职简历封面模板。\n",
      " 音乐专业求职简历封面模板下载结束！\n",
      "开始下载行政文秘简历表格模板下载。\n",
      "行政文秘简历表格模板下载下载结束！\n",
      "开始下载 投行实习生求职简历模板。\n",
      " 投行实习生求职简历模板下载结束！\n",
      "开始下载银行信贷岗位个人简历模板。\n",
      "银行信贷岗位个人简历模板下载结束！\n",
      "开始下载  证券金融产品研究个人简历模板。\n",
      "  证券金融产品研究个人简历模板下载结束！\n",
      "开始下载公关策划简历模板下载。\n",
      "公关策划简历模板下载下载结束！\n",
      "开始下载 通信设计工程师简历模板下载。\n",
      " 通信设计工程师简历模板下载下载结束！\n",
      "开始下载保险产品开发个人简历模板。\n",
      "保险产品开发个人简历模板下载结束！\n",
      "开始下载 初级网络代表个人简历模板。\n",
      " 初级网络代表个人简历模板下载结束！\n",
      "共用时：36.43974304199219\n"
     ]
    }
   ],
   "source": [
    "import time\n",
    "\n",
    "# --省略部分--\n",
    "\n",
    "if __name__ == '__main__':\n",
    "    start_time = time.time()\n",
    "    run()\n",
    "    end_time = time.time()\n",
    "    print(f'共用时：{end_time - start_time}')"
   ]
  },
  {
   "cell_type": "code",
   "execution_count": null,
   "metadata": {},
   "outputs": [],
   "source": []
  }
 ],
 "metadata": {
  "kernelspec": {
   "display_name": "Python 3",
   "language": "python",
   "name": "python3"
  },
  "language_info": {
   "codemirror_mode": {
    "name": "ipython",
    "version": 3
   },
   "file_extension": ".py",
   "mimetype": "text/x-python",
   "name": "python",
   "nbconvert_exporter": "python",
   "pygments_lexer": "ipython3",
   "version": "3.7.4"
  }
 },
 "nbformat": 4,
 "nbformat_minor": 4
}
