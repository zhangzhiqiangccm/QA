{
 "cells": [
  {
   "cell_type": "code",
   "execution_count": 1,
   "metadata": {},
   "outputs": [
    {
     "name": "stdout",
     "output_type": "stream",
     "text": [
      "{'args': {}, 'headers': {'Accept': '*/*', 'Accept-Encoding': 'gzip, deflate', 'Host': 'httpbin.org', 'User-Agent': 'python-requests/2.23.0', 'X-Amzn-Trace-Id': 'Root=1-608b62b6-770b62852560c64e7c1c0044'}, 'origin': '202.204.188.242', 'url': 'https://httpbin.org/get'}\n"
     ]
    }
   ],
   "source": [
    "import requests\n",
    "\n",
    "r = requests.get(url = 'https://httpbin.org/get').json()\n",
    "print(r)"
   ]
  },
  {
   "cell_type": "code",
   "execution_count": 3,
   "metadata": {},
   "outputs": [
    {
     "name": "stdout",
     "output_type": "stream",
     "text": [
      "{'args': {}, 'headers': {'Accept': '*/*', 'Accept-Encoding': 'gzip, deflate', 'Cache-Control': 'max-age=259200', 'Host': 'httpbin.org', 'User-Agent': 'python-requests/2.23.0', 'X-Amzn-Trace-Id': 'Root=1-608b63db-02422f4b4781593b25c4d6d7'}, 'origin': '171.35.170.150', 'url': 'http://httpbin.org/get'}\n"
     ]
    }
   ],
   "source": [
    "import requests\n",
    "\n",
    "#把代理IP封装到字典中，和伪装请求头操作如出一辙\n",
    "proxies = {'http':'171.35.170.150:9999',\n",
    "           'https':'https://182.109.215.206:57114'}       \n",
    "# 然后在get的参数中把上面定义的proxies参数带上\n",
    "r = requests.get('http://httpbin.org/get', proxies = proxies).json()      \n",
    "print(r)"
   ]
  },
  {
   "cell_type": "code",
   "execution_count": 1,
   "metadata": {},
   "outputs": [
    {
     "name": "stdout",
     "output_type": "stream",
     "text": [
      "<html><head></head><body><pre style=\"word-wrap: break-word; white-space: pre-wrap;\">{\n",
      "  \"args\": {}, \n",
      "  \"headers\": {\n",
      "    \"Accept\": \"*/*\", \n",
      "    \"Accept-Encoding\": \"gzip, deflate\", \n",
      "    \"Cache-Control\": \"max-age=86400\", \n",
      "    \"Host\": \"httpbin.org\", \n",
      "    \"User-Agent\": \"Mozilla/5.0 (Windows NT 10.0; WOW64) AppleWebKit/537.36 (KHTML, like Gecko) Chrome/63.0.3239.132 Safari/537.36\", \n",
      "    \"X-Amzn-Trace-Id\": \"Root=1-608ac73b-20a83e5031734c1077804cf1\"\n",
      "  }, \n",
      "  \"origin\": \"118.31.18.248, 58.240.52.114\", \n",
      "  \"url\": \"http://httpbin.org/get\"\n",
      "}\n",
      "</pre></body></html>\n"
     ]
    }
   ],
   "source": [
    "import time\n",
    "from selenium import webdriver\n",
    "from selenium.webdriver import ChromeOptions\n",
    "\n",
    "\n",
    "options = ChromeOptions()\n",
    "\n",
    "proxy = 'http://58.240.52.114:80'\n",
    "\n",
    "options.add_argument(('--proxy-server=' + proxy))\n",
    "driver = webdriver.Chrome(options=options)\n",
    "driver.get('http://httpbin.org/get')\n",
    "\n",
    "time.sleep(3)\n",
    "\n",
    "print(driver.page_source)    # 打印响应数据\n",
    "\n",
    "driver.quit()\n"
   ]
  },
  {
   "cell_type": "code",
   "execution_count": null,
   "metadata": {},
   "outputs": [],
   "source": []
  }
 ],
 "metadata": {
  "kernelspec": {
   "display_name": "Python 3",
   "language": "python",
   "name": "python3"
  },
  "language_info": {
   "codemirror_mode": {
    "name": "ipython",
    "version": 3
   },
   "file_extension": ".py",
   "mimetype": "text/x-python",
   "name": "python",
   "nbconvert_exporter": "python",
   "pygments_lexer": "ipython3",
   "version": "3.7.4"
  }
 },
 "nbformat": 4,
 "nbformat_minor": 4
}
