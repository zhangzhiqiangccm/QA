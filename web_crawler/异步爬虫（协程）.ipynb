{
 "cells": [
  {
   "cell_type": "code",
   "execution_count": 3,
   "metadata": {},
   "outputs": [
    {
     "name": "stdout",
     "output_type": "stream",
     "text": [
      "Collecting aiohttp\n",
      "  Downloading aiohttp-3.7.4.post0-cp37-cp37m-win_amd64.whl (630 kB)\n",
      "Requirement already satisfied: chardet<5.0,>=2.0 in d:\\programdata\\anaconda3\\lib\\site-packages (from aiohttp) (3.0.4)\n",
      "Collecting multidict<7.0,>=4.5\n",
      "  Downloading multidict-5.1.0-cp37-cp37m-win_amd64.whl (48 kB)\n",
      "Collecting async-timeout<4.0,>=3.0\n",
      "  Downloading async_timeout-3.0.1-py3-none-any.whl (8.2 kB)\n",
      "Requirement already satisfied: attrs>=17.3.0 in d:\\programdata\\anaconda3\\lib\\site-packages (from aiohttp) (19.3.0)\n",
      "Collecting yarl<2.0,>=1.0\n",
      "  Downloading yarl-1.6.3-cp37-cp37m-win_amd64.whl (124 kB)\n",
      "Collecting typing-extensions>=3.6.5\n",
      "  Downloading typing_extensions-3.10.0.0-py3-none-any.whl (26 kB)\n",
      "Requirement already satisfied: idna>=2.0 in d:\\programdata\\anaconda3\\lib\\site-packages (from yarl<2.0,>=1.0->aiohttp) (2.9)\n",
      "Installing collected packages: multidict, async-timeout, typing-extensions, yarl, aiohttp\n",
      "Successfully installed aiohttp-3.7.4.post0 async-timeout-3.0.1 multidict-5.1.0 typing-extensions-3.10.0.0 yarl-1.6.3\n"
     ]
    }
   ],
   "source": [
    "!pip install aiohttp"
   ]
  },
  {
   "cell_type": "code",
   "execution_count": 4,
   "metadata": {},
   "outputs": [],
   "source": [
    "import time\n",
    "import requests\n",
    "from lxml import etree\n",
    "import pprint\n",
    "import asyncio\n",
    "import aiohttp\n",
    "\n",
    "index_url = 'https://sc.chinaz.com/jianli/free.html'\n",
    "\n",
    "headers = {\n",
    "    'User-Agent': 'Mozilla/5.0 (Windows NT 10.0; Win64; x64) AppleWebKit/537.36 (KHTML, like Gecko) Chrome/90.0.4430.72 Safari/537.36 Edg/90.0.818.42',\n",
    "}"
   ]
  },
  {
   "cell_type": "code",
   "execution_count": 5,
   "metadata": {},
   "outputs": [],
   "source": [
    "# 因为本次项目需要先请求目录页，再请求详情页，最后再请求文件下载链接，可能还要实现翻页\n",
    "# 所以封装一个函数，方便重复使用\n",
    "def request(url):\n",
    "    try:\n",
    "        r = requests.get(url, headers=headers)\n",
    "        if r.status_code == 200:\n",
    "            return r\n",
    "        else:\n",
    "            print('Non 200 status code')\n",
    "            return ''\n",
    "    except Exception as err:\n",
    "        print('crawler error：' + err)"
   ]
  },
  {
   "cell_type": "code",
   "execution_count": 6,
   "metadata": {},
   "outputs": [],
   "source": [
    "# 爬取目录页中详情页的url。\n",
    "def get_detail_link(url):\n",
    "    response = request(url)\n",
    "    tree = etree.HTML(response.text)\n",
    "    detail_link = tree.xpath('//*[@id=\"container\"]/div/p/a/@href')\n",
    "    detall_link_list = ['https:' + i for i in detail_link]  # url拼接\n",
    "    return detall_link_list"
   ]
  },
  {
   "cell_type": "code",
   "execution_count": 7,
   "metadata": {},
   "outputs": [],
   "source": [
    "async def download_document(url):\n",
    "    conn = aiohttp.TCPConnector(ssl=False)\n",
    "    async with aiohttp.ClientSession(connector=conn) as session:\n",
    "        async with session.get(url) as r1:\n",
    "            text = await r1.read()\n",
    "            tree = etree.HTML(text.decode('utf-8'))\n",
    "            document_name = tree.xpath('//h1/text()')[0]\n",
    "            document_link = tree.xpath('//*[@id=\"down\"]/div[2]/ul/li[1]/a/@href')[0]\n",
    "            document_type = document_link[-3:]\n",
    "            async with session.get(document_link) as r2:\n",
    "                print(f\"开始下载{document_name}。\")\n",
    "                content = await r2.read()\n",
    "                with open(f'{document_name}.{document_type}', 'wb')as f:\n",
    "                    f.write(content)\n",
    "                print(f\"{document_name}下载结束！\")"
   ]
  },
  {
   "cell_type": "code",
   "execution_count": 8,
   "metadata": {},
   "outputs": [],
   "source": [
    "async def main():\n",
    "    links = get_detail_link(index_url)\n",
    "    tasks = []\n",
    "    for link in links:\n",
    "        t = asyncio.create_task(download_document(link))\n",
    "        tasks.append(t)\n",
    "    for t in tasks:\n",
    "        await t"
   ]
  },
  {
   "cell_type": "code",
   "execution_count": 10,
   "metadata": {},
   "outputs": [
    {
     "name": "stdout",
     "output_type": "stream",
     "text": [
      "开始下载 音乐专业求职简历封面模板。\n",
      "开始下载建筑设计师求职简历word模板。\n",
      "开始下载公关策划简历模板下载。\n",
      "开始下载机械类个人简历表格模板。\n",
      "开始下载 中学语文老师简历表格模板。\n",
      "开始下载银行信贷岗位个人简历模板。\n",
      "开始下载 实习教师岗位简历模板下载。\n",
      "开始下载保险产品开发个人简历模板。\n",
      "开始下载机械工程专业毕业生简历模板。\n",
      "开始下载 行政通用英文简历模板。\n",
      "开始下载 投行实习生求职简历模板。\n",
      "开始下载炫彩毕业生简历模板封面。\n",
      "开始下载 心理咨询师简历word模板下载。\n",
      "开始下载电话客服简历自我评价。\n",
      "开始下载程序员简历表格模板下载。\n",
      "开始下载外企英文个人求职简历模板。\n",
      "开始下载 通信设计工程师简历模板下载。\n",
      "开始下载  证券金融产品研究个人简历模板。\n",
      "开始下载行政文秘简历表格模板下载。\n",
      "开始下载 初级网络代表个人简历模板。\n",
      "机械类个人简历表格模板下载结束！\n",
      " 中学语文老师简历表格模板下载结束！\n",
      "银行信贷岗位个人简历模板下载结束！\n",
      " 实习教师岗位简历模板下载下载结束！\n",
      " 行政通用英文简历模板下载结束！\n",
      "保险产品开发个人简历模板下载结束！\n",
      " 心理咨询师简历word模板下载下载结束！\n",
      "程序员简历表格模板下载下载结束！\n",
      "  证券金融产品研究个人简历模板下载结束！\n",
      "公关策划简历模板下载下载结束！\n",
      "行政文秘简历表格模板下载下载结束！\n",
      "建筑设计师求职简历word模板下载结束！\n",
      "外企英文个人求职简历模板下载结束！\n",
      "机械工程专业毕业生简历模板下载结束！\n",
      " 通信设计工程师简历模板下载下载结束！\n",
      " 初级网络代表个人简历模板下载结束！\n",
      "电话客服简历自我评价下载结束！\n",
      " 投行实习生求职简历模板下载结束！\n",
      "炫彩毕业生简历模板封面下载结束！\n",
      " 音乐专业求职简历封面模板下载结束！\n",
      "共用时：4.332136869430542\n"
     ]
    }
   ],
   "source": [
    "if __name__ == '__main__':\n",
    "    start_time = time.time()\n",
    "#     asyncio.run(main())\n",
    "    await main()\n",
    "    end_time = time.time()\n",
    "    print(f'共用时：{end_time - start_time}')"
   ]
  },
  {
   "cell_type": "code",
   "execution_count": null,
   "metadata": {},
   "outputs": [],
   "source": []
  }
 ],
 "metadata": {
  "kernelspec": {
   "display_name": "Python 3",
   "language": "python",
   "name": "python3"
  },
  "language_info": {
   "codemirror_mode": {
    "name": "ipython",
    "version": 3
   },
   "file_extension": ".py",
   "mimetype": "text/x-python",
   "name": "python",
   "nbconvert_exporter": "python",
   "pygments_lexer": "ipython3",
   "version": "3.7.4"
  }
 },
 "nbformat": 4,
 "nbformat_minor": 4
}
