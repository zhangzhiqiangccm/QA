{
 "cells": [
  {
   "cell_type": "code",
   "execution_count": 1,
   "metadata": {},
   "outputs": [],
   "source": [
    "import random \n",
    "import requests"
   ]
  },
  {
   "cell_type": "code",
   "execution_count": 2,
   "metadata": {},
   "outputs": [
    {
     "name": "stdout",
     "output_type": "stream",
     "text": [
      "当前请求的链接： https://db.yaozh.com/hmap/2.html\n",
      "当前返回的响应码： 200\n",
      "================================================\n",
      "当前请求的链接： https://db.yaozh.com/hmap/4.html\n",
      "当前返回的响应码： 200\n",
      "================================================\n",
      "当前请求的链接： https://db.yaozh.com/hmap/6.html\n",
      "当前返回的响应码： 200\n",
      "================================================\n",
      "当前请求的链接： https://db.yaozh.com/hmap/8.html\n",
      "当前返回的响应码： 200\n",
      "================================================\n",
      "当前请求的链接： https://db.yaozh.com/hmap/1.html\n",
      "当前返回的响应码： 302\n",
      "================================================\n",
      "当前请求的链接： https://db.yaozh.com/hmap/7.html\n",
      "当前返回的响应码： 302\n",
      "================================================\n",
      "当前请求的链接： https://db.yaozh.com/hmap/3.html\n",
      "当前返回的响应码： 302\n",
      "================================================\n",
      "当前请求的链接： https://db.yaozh.com/hmap/5.html\n",
      "当前返回的响应码： 302\n",
      "================================================\n",
      "当前请求的链接： https://db.yaozh.com/hmap/10.html\n",
      "当前返回的响应码： 302\n",
      "================================================\n",
      "当前请求的链接： https://db.yaozh.com/hmap/9.html\n",
      "当前返回的响应码： 302\n",
      "================================================\n"
     ]
    }
   ],
   "source": [
    "class HSpider:\n",
    "    headers = {\n",
    "        'User-Agent': \"Mozilla/5.0 (Macintosh; Intel Mac OS X 10_9_2) AppleWebKit/537.36 (KHTML, like Gecko) Chrome/35.0.1916.153 Safari/537.36\"}\n",
    "\n",
    "    # 传入要抓取的数量\n",
    "    def __init__(self, number):\n",
    "        self.n = number\n",
    "\n",
    "    def get_links(self):\n",
    "        urls = []\n",
    "        for i in range(1, self.n + 1):\n",
    "            urls.append(f'https://db.yaozh.com/hmap/{i}.html')\n",
    "        random.shuffle(urls)\n",
    "        return urls\n",
    "    \n",
    "    def get_data(self, url):\n",
    "        resp = requests.get(url=url, headers=self.headers,\n",
    "                            allow_redirects=False)\n",
    "        print('当前请求的链接：', resp.url)\n",
    "        print('当前返回的响应码：', resp.status_code)\n",
    "        print('================================================')\n",
    "\n",
    "    def run(self):\n",
    "        links = self.get_links()\n",
    "        for l in links:\n",
    "            self.get_data(l)\n",
    "\n",
    "if __name__ == '__main__':\n",
    "    spider = HSpider(10)\n",
    "    spider.run()"
   ]
  },
  {
   "cell_type": "code",
   "execution_count": null,
   "metadata": {},
   "outputs": [],
   "source": []
  }
 ],
 "metadata": {
  "kernelspec": {
   "display_name": "Python 3",
   "language": "python",
   "name": "python3"
  },
  "language_info": {
   "codemirror_mode": {
    "name": "ipython",
    "version": 3
   },
   "file_extension": ".py",
   "mimetype": "text/x-python",
   "name": "python",
   "nbconvert_exporter": "python",
   "pygments_lexer": "ipython3",
   "version": "3.7.4"
  }
 },
 "nbformat": 4,
 "nbformat_minor": 4
}
