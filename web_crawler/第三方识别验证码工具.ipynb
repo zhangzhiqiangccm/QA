{
 "cells": [
  {
   "cell_type": "code",
   "execution_count": 1,
   "metadata": {},
   "outputs": [],
   "source": [
    "import base64\n",
    "import json\n",
    "import requests\n",
    "\n",
    "class Tujian:\n",
    "\n",
    "    def __init__(self, typeid=3):\n",
    "        self.typeid = typeid\n",
    "        self.uname = 'zhazhaqiang'  # 用户名\n",
    "        self.pwd = 'zzq19951008'  # 密码\n",
    "\n",
    "    def get_code(self, img_path):\n",
    "        '''\n",
    "        : img_path 验证码图片路径\n",
    "        '''\n",
    "        with open(img_path, 'rb') as f:\n",
    "            base64_data = base64.b64encode(f.read())\n",
    "            b64 = base64_data.decode()\n",
    "            data = {\"username\": self.uname, \"password\": self.pwd,\n",
    "                    \"typeid\": self.typeid, \"image\": b64}\n",
    "            result = json.loads(requests.post(\n",
    "                \"http://api.ttshitu.com/predict\", json=data).text)\n",
    "            if result['success']:\n",
    "                return result[\"data\"][\"result\"]\n",
    "            else:\n",
    "                return result[\"message\"]"
   ]
  },
  {
   "cell_type": "code",
   "execution_count": null,
   "metadata": {},
   "outputs": [],
   "source": [
    "t = Tujian()\n",
    "\n",
    "img_path = 'c3.gif' #图片路径\n",
    "\n",
    "print(t.get_code(img_path))"
   ]
  },
  {
   "cell_type": "code",
   "execution_count": null,
   "metadata": {},
   "outputs": [],
   "source": []
  },
  {
   "cell_type": "code",
   "execution_count": 2,
   "metadata": {},
   "outputs": [],
   "source": [
    "import requests\n",
    "# 导入我们封装好的打码识别模块\n",
    "# from tujian import Tujian\n",
    "\n",
    "'''\n",
    "登录过程：\n",
    "1. 先实例化一个session；\n",
    "2. 拿到验证码（手动打码，肉眼识别）；\n",
    "3. 识别验证码；\n",
    "3. 建立一个表单（里面放入账号、密码、验证码）；\n",
    "4. 向网站服务器发起post请求；\n",
    "5. 获得登录后的页面。\n",
    "'''\n",
    "\n",
    "# 将模块实例化\n",
    "tj = Tujian()\n",
    "\n",
    "# 实例化一个session会话\n",
    "s = requests.Session()\n",
    "\n",
    "# 先获得验证码\n",
    "headers = {\n",
    "    'user-agent': 'Mozilla/5.0 (Windows NT 10.0; Win64; x64) AppleWebKit/537.36 (KHTML, like Gecko) Chrome/89.0.4389.114 Safari/537.36 Edg/89.0.774.68',\n",
    "}\n",
    "\n",
    "response = s.get('https://so.gushiwen.cn/RandCode.ashx', headers=headers)\n",
    "\n",
    "with open('captcha.jpg','wb')as f:\n",
    "    f.write(response.content)"
   ]
  },
  {
   "cell_type": "code",
   "execution_count": 4,
   "metadata": {},
   "outputs": [
    {
     "name": "stdout",
     "output_type": "stream",
     "text": [
      "请输入账号： 18811709839\n",
      "请输入密码： 张志强9951008\n",
      "识别验证码为： pjs6\n",
      "成功登录，并获取网页！\n"
     ]
    }
   ],
   "source": [
    "#建立一个post表单\n",
    "\n",
    "id = str(input('请输入账号： '))\n",
    "password = str(input('请输入密码： '))\n",
    "# captcha = str(input('请输入验证码： '))\n",
    "\n",
    "# 识别验证码并返回识别结果\n",
    "captcha = tj.get_code(r'./captcha.jpg')\n",
    "\n",
    "data = {\n",
    "  '__VIEWSTATE': 'pBH6iDGqGqCm9dqQl80TWrt/gKSsC1mxpDa/I5en0khqgI80PtuqqaVp9HtFj24CDjY/aYi5d2ybmO72XCnY+BK/QZHLHnEDgNIetaDWgwKqx9zF5K3k30QFoHc=',\n",
    "  '__VIEWSTATEGENERATOR': 'C93BE1AE',\n",
    "  'from': '',\n",
    "  'email': id,\n",
    "  'pwd': password,\n",
    "  'code': captcha,\n",
    "  'denglu': '登录'\n",
    "}\n",
    "print(f'识别验证码为： {captcha}')\n",
    "# 向网站服务器发起post请求\n",
    "r = s.post('https://so.gushiwen.cn/user/login.aspx', headers=headers, data=data)\n",
    "\n",
    "# 获得登录后的页面\n",
    "with open('index.html','w',encoding=\"utf-8\")as fp:\n",
    "    fp.write(r.text)\n",
    "    print('成功登录，并获取网页！')\n",
    "\n",
    "\n",
    "# '''\n",
    "# 如果这个验证码能被机器识别出来，就能完成全自动模拟登录。\n",
    "# 像简单的字母数字识别可以使用Tesseract库识别。\n",
    "# 我们在此学习比较通用的方法--使用第三方打码工具库。\n",
    "# ''''''"
   ]
  },
  {
   "cell_type": "code",
   "execution_count": null,
   "metadata": {},
   "outputs": [],
   "source": []
  },
  {
   "cell_type": "code",
   "execution_count": null,
   "metadata": {},
   "outputs": [],
   "source": []
  },
  {
   "cell_type": "code",
   "execution_count": null,
   "metadata": {},
   "outputs": [],
   "source": []
  },
  {
   "cell_type": "code",
   "execution_count": null,
   "metadata": {},
   "outputs": [],
   "source": []
  }
 ],
 "metadata": {
  "kernelspec": {
   "display_name": "Python 3",
   "language": "python",
   "name": "python3"
  },
  "language_info": {
   "codemirror_mode": {
    "name": "ipython",
    "version": 3
   },
   "file_extension": ".py",
   "mimetype": "text/x-python",
   "name": "python",
   "nbconvert_exporter": "python",
   "pygments_lexer": "ipython3",
   "version": "3.7.4"
  }
 },
 "nbformat": 4,
 "nbformat_minor": 4
}
