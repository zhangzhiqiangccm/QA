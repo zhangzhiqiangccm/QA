{
 "cells": [
  {
   "cell_type": "code",
   "execution_count": 1,
   "metadata": {},
   "outputs": [],
   "source": [
    "import requests\n",
    "from lxml import etree\n",
    "import json\n",
    "url = 'https://movie.douban.com/top250'"
   ]
  },
  {
   "cell_type": "markdown",
   "metadata": {},
   "source": [
    "# 抓取豆瓣必须添加User-Agent的Header，有的网站不需要\n",
    "# 要知道自己的浏览器的header，可以访问这个地址：http://httpbin.org/get"
   ]
  },
  {
   "cell_type": "code",
   "execution_count": 3,
   "metadata": {},
   "outputs": [],
   "source": [
    "headers = {\n",
    "    'User-Agent': 'Mozilla/5.0 (Windows NT 10.0; Win64; x64) AppleWebKit/537.36 (KHTML, like Gecko) Chrome/89.0.4389.128 Safari/537.36'\n",
    "\n",
    "}"
   ]
  },
  {
   "cell_type": "code",
   "execution_count": 4,
   "metadata": {},
   "outputs": [],
   "source": [
    "response = requests.get(url=url, headers=headers)"
   ]
  },
  {
   "cell_type": "code",
   "execution_count": 6,
   "metadata": {},
   "outputs": [
    {
     "data": {
      "text/plain": [
       "'<!DOCTYPE html>\\n<html lang=\"zh-CN\" class=\"ua-windows ua-webkit\">\\n<head>\\n    <meta http-equiv=\"Content-Type\" content=\"text/html; charset=utf-8\">\\n    <meta name=\"renderer\" content=\"webkit\">\\n    <meta name=\"referrer\" content=\"always\">\\n    <meta name=\"google-site-verification\" content=\"ok0wCgT20tBBgo9_zat2iAcimtN4Ftf5ccsh092Xeyw\" />\\n    <title>\\n豆瓣电影 Top 250\\n</title>\\n    \\n    <meta name=\"baidu-site-verification\" content=\"cZdR4xxR7RxmM4zE\" />\\n    <meta http-equiv=\"Pragma\" content=\"no-cache\">\\n    <meta http-equiv=\"Expires\" content=\"Sun, 6 Mar 2005 01:00:00 GMT\">\\n    \\n    <link rel=\"apple-touch-icon\" href=\"https://img3.doubanio.com/f/movie/d59b2715fdea4968a450ee5f6c95c7d7a2030065/pics/movie/apple-touch-icon.png\">\\n    <link href=\"https://img3.doubanio.com/f/shire/6522c42d2aba9757aeefa0c35cc0cefc9229747c/css/douban.css\" rel=\"stylesheet\" type=\"text/css\">\\n    <link href=\"https://img3.doubanio.com/f/shire/db02bd3a4c78de56425ddeedd748a6804af60ee9/css/separation/_all.css\" rel=\"stylesheet\" type=\"text/css\">\\n    <link href=\"https://img3.doubanio.com/f/movie/252bef058b97005c6a41e8f1b9f7b06b84bc71b3/css/movie/base/init.css\" rel=\"stylesheet\">\\n    <script type=\"text/javascript\">var _head_start = new Date();</script>\\n    <script type=\"text/javascript\" src=\"https://img3.doubanio.com/f/movie/0495cb173e298c28593766009c7b0a953246c5b5/js/movie/lib/jquery.js\"></script>\\n    <script type=\"text/javascript\" src=\"https://img3.doubanio.com/f/shire/5ecaf46d6954d5a30bc7d99be86ae34031646e00/js/douban.js\"></script>\\n    <script type=\"text/javascript\" src=\"https://img3.doubanio.com/f/shire/b0d3faaf7a432605add54908e39e17746824d6cc/js/separation/_all.js\"></script>\\n    \\n<link href=\"https://img3.doubanio.com/f/movie/2c95f768ea74284b900c04c0209b0a44f0a0de52/css/movie/top_movies.css\" rel=\"stylesheet\" type=\"text/css\" />\\n<script type=\"text/javascript\" src=\"https://img3.doubanio.com/f/shire/2c0c1c6b83f9a457b0f38c38a32fc43a42ec9bad/js/do.js\" data-cfg-autoload=\"false\"></script>\\n<script type=\\'text/javascript\\'>\\n    Do.ready(function(){\\n            $(\"#mine-selector input[type=\\'checkbox\\']\").click(function(){\\n                var val = $(this).is(\":checked\")?$(this).val():\"\";\\n                window.location.href = \\'/top250?filter=\\' + val;\\n            })\\n    })\\n</script>\\n\\n    <style type=\"text/css\">\\n.site-nav-logo img{margin-bottom:0;}\\n</style>\\n    <style type=\"text/css\">img { max-width: 100%; }</style>\\n    <script type=\"text/javascript\"></script>\\n    <link rel=\"stylesheet\" href=\"https://img3.doubanio.com/misc/mixed_static/562925b5e3824700.css\">\\n\\n    <link rel=\"shortcut icon\" href=\"https://img3.doubanio.com/favicon.ico\" type=\"image/x-icon\">\\n</head>\\n\\n<body>\\n  \\n    <script type=\"text/javascript\">var _body_start = new Date();</script>\\n\\n    \\n    \\n\\n\\n\\n    <link href=\"//img3.doubanio.com/dae/accounts/resources/d3e2921/shire/bundle.css\" rel=\"stylesheet\" type=\"text/css\">\\n\\n\\n\\n<div id=\"db-global-nav\" class=\"global-nav\">\\n  <div class=\"bd\">\\n    \\n<div class=\"top-nav-info\">\\n  <a href=\"https://accounts.douban.com/passport/login?source=movie\" class=\"nav-login\" rel=\"nofollow\">登录/注册</a>\\n</div>\\n\\n\\n    <div class=\"top-nav-doubanapp\">\\n  <a href=\"https://www.douban.com/doubanapp/app?channel=top-nav\" class=\"lnk-doubanapp\">下载豆瓣客户端</a>\\n  <div id=\"doubanapp-tip\">\\n    <a href=\"https://www.douban.com/doubanapp/app?channel=qipao\" class=\"tip-link\">豆瓣 <span class=\"version\">6.0</span> 全新发布</a>\\n    <a href=\"javascript: void 0;\" class=\"tip-close\">×</a>\\n  </div>\\n  <div id=\"top-nav-appintro\" class=\"more-items\">\\n    <p class=\"appintro-title\">豆瓣</p>\\n    <p class=\"qrcode\">扫码直接下载</p>\\n    <div class=\"download\">\\n      <a href=\"https://www.douban.com/doubanapp/redirect?channel=top-nav&direct_dl=1&download=iOS\">iPhone</a>\\n      <span>·</span>\\n      <a href=\"https://www.douban.com/doubanapp/redirect?channel=top-nav&direct_dl=1&download=Android\" class=\"download-android\">Android</a>\\n    </div>\\n  </div>\\n</div>\\n\\n    \\n\\n\\n<div class=\"global-nav-items\">\\n  <ul>\\n    <li class=\"\">\\n      <a href=\"https://www.douban.com\" target=\"_blank\" data-moreurl-dict=\"{&quot;from&quot;:&quot;top-nav-click-main&quot;,&quot;uid&quot;:&quot;0&quot;}\">豆瓣</a>\\n    </li>\\n    <li class=\"\">\\n      <a href=\"https://book.douban.com\" target=\"_blank\" data-moreurl-dict=\"{&quot;from&quot;:&quot;top-nav-click-book&quot;,&quot;uid&quot;:&quot;0&quot;}\">读书</a>\\n    </li>\\n    <li class=\"on\">\\n      <a href=\"https://movie.douban.com\"  data-moreurl-dict=\"{&quot;from&quot;:&quot;top-nav-click-movie&quot;,&quot;uid&quot;:&quot;0&quot;}\">电影</a>\\n    </li>\\n    <li class=\"\">\\n      <a href=\"https://music.douban.com\" target=\"_blank\" data-moreurl-dict=\"{&quot;from&quot;:&quot;top-nav-click-music&quot;,&quot;uid&quot;:&quot;0&quot;}\">音乐</a>\\n    </li>\\n    <li class=\"\">\\n      <a href=\"https://www.douban.com/location\" target=\"_blank\" data-moreurl-dict=\"{&quot;from&quot;:&quot;top-nav-click-location&quot;,&quot;uid&quot;:&quot;0&quot;}\">同城</a>\\n    </li>\\n    <li class=\"\">\\n      <a href=\"https://www.douban.com/group\" target=\"_blank\" data-moreurl-dict=\"{&quot;from&quot;:&quot;top-nav-click-group&quot;,&quot;uid&quot;:&quot;0&quot;}\">小组</a>\\n    </li>\\n    <li class=\"\">\\n      <a href=\"https://read.douban.com&#47;?dcs=top-nav&amp;dcm=douban\" target=\"_blank\" data-moreurl-dict=\"{&quot;from&quot;:&quot;top-nav-click-read&quot;,&quot;uid&quot;:&quot;0&quot;}\">阅读</a>\\n    </li>\\n    <li class=\"\">\\n      <a href=\"https://douban.fm&#47;?from_=shire_top_nav\" target=\"_blank\" data-moreurl-dict=\"{&quot;from&quot;:&quot;top-nav-click-fm&quot;,&quot;uid&quot;:&quot;0&quot;}\">FM</a>\\n    </li>\\n    <li class=\"\">\\n      <a href=\"https://time.douban.com&#47;?dt_time_source=douban-web_top_nav\" target=\"_blank\" data-moreurl-dict=\"{&quot;from&quot;:&quot;top-nav-click-time&quot;,&quot;uid&quot;:&quot;0&quot;}\">时间</a>\\n    </li>\\n    <li class=\"\">\\n      <a href=\"https://market.douban.com&#47;?utm_campaign=douban_top_nav&amp;utm_source=douban&amp;utm_medium=pc_web\" target=\"_blank\" data-moreurl-dict=\"{&quot;from&quot;:&quot;top-nav-click-market&quot;,&quot;uid&quot;:&quot;0&quot;}\">豆品</a>\\n    </li>\\n  </ul>\\n</div>\\n\\n  </div>\\n</div>\\n<script>\\n  ;window._GLOBAL_NAV = {\\n    DOUBAN_URL: \"https://www.douban.com\",\\n    N_NEW_NOTIS: 0,\\n    N_NEW_DOUMAIL: 0\\n  };\\n</script>\\n\\n\\n\\n    <script src=\"//img3.doubanio.com/dae/accounts/resources/d3e2921/shire/bundle.js\" defer=\"defer\"></script>\\n\\n\\n\\n\\n    \\n\\n\\n\\n    <link href=\"//img3.doubanio.com/dae/accounts/resources/d3e2921/movie/bundle.css\" rel=\"stylesheet\" type=\"text/css\">\\n\\n\\n\\n\\n<div id=\"db-nav-movie\" class=\"nav\">\\n  <div class=\"nav-wrap\">\\n  <div class=\"nav-primary\">\\n    <div class=\"nav-logo\">\\n      <a href=\"https:&#47;&#47;movie.douban.com\">豆瓣电影</a>\\n    </div>\\n    <div class=\"nav-search\">\\n      <form action=\"https:&#47;&#47;search.douban.com&#47;movie/subject_search\" method=\"get\">\\n        <fieldset>\\n          <legend>搜索：</legend>\\n          <label for=\"inp-query\">\\n          </label>\\n          <div class=\"inp\"><input id=\"inp-query\" name=\"search_text\" size=\"22\" maxlength=\"60\" placeholder=\"搜索电影、电视剧、综艺、影人\" value=\"\"></div>\\n          <div class=\"inp-btn\"><input type=\"submit\" value=\"搜索\"></div>\\n          <input type=\"hidden\" name=\"cat\" value=\"1002\" />\\n        </fieldset>\\n      </form>\\n    </div>\\n  </div>\\n  </div>\\n  <div class=\"nav-secondary\">\\n    \\n\\n<div class=\"nav-items\">\\n  <ul>\\n    <li    ><a href=\"https://movie.douban.com/cinema/nowplaying/\"\\n     >影讯&购票</a>\\n    </li>\\n    <li    ><a href=\"https://movie.douban.com/explore\"\\n     >选电影</a>\\n    </li>\\n    <li    ><a href=\"https://movie.douban.com/tv/\"\\n     >电视剧</a>\\n    </li>\\n    <li    ><a href=\"https://movie.douban.com/chart\"\\n     >排行榜</a>\\n    </li>\\n    <li    ><a href=\"https://movie.douban.com/tag/\"\\n     >分类</a>\\n    </li>\\n    <li    ><a href=\"https://movie.douban.com/review/best/\"\\n     >影评</a>\\n    </li>\\n    <li    ><a href=\"https://movie.douban.com/annual/2020?source=navigation\"\\n     >2020年度榜单</a>\\n    </li>\\n    <li    ><a href=\"https://www.douban.com/standbyme/2020?fullscreen=true&hidenav=true&autorotate=false&source=movie_navigation\"\\n            target=\"_blank\"\\n     >2020书影音报告</a>\\n    </li>\\n  </ul>\\n</div>\\n\\n    <a href=\"https://movie.douban.com/annual/2020?source=movie_navigation\" class=\"movieannual\"></a>\\n  </div>\\n</div>\\n\\n<script id=\"suggResult\" type=\"text/x-jquery-tmpl\">\\n  <li data-link=\"{{= url}}\">\\n            <a href=\"{{= url}}\" onclick=\"moreurl(this, {from:\\'movie_search_sugg\\', query:\\'{{= keyword }}\\', subject_id:\\'{{= id}}\\', i: \\'{{= index}}\\', type: \\'{{= type}}\\'})\">\\n            <img src=\"{{= img}}\" width=\"40\" />\\n            <p>\\n                <em>{{= title}}</em>\\n                {{if year}}\\n                    <span>{{= year}}</span>\\n                {{/if}}\\n                {{if sub_title}}\\n                    <br /><span>{{= sub_title}}</span>\\n                {{/if}}\\n                {{if address}}\\n                    <br /><span>{{= address}}</span>\\n                {{/if}}\\n                {{if episode}}\\n                    {{if episode==\"unknow\"}}\\n                        <br /><span>集数未知</span>\\n                    {{else}}\\n                        <br /><span>共{{= episode}}集</span>\\n                    {{/if}}\\n                {{/if}}\\n            </p>\\n        </a>\\n        </li>\\n  </script>\\n\\n\\n\\n\\n    <script src=\"//img3.doubanio.com/dae/accounts/resources/d3e2921/movie/bundle.js\" defer=\"defer\"></script>\\n\\n\\n\\n\\n\\n    \\n    <div id=\"wrapper\">\\n        \\n\\n        \\n    <div id=\"content\">\\n        \\n    <h1>豆瓣电影 Top 250</h1>\\n\\n        <div class=\"grid-16-8 clearfix\">\\n            \\n            \\n            <div class=\"article\">\\n                \\n\\n\\n\\n\\n\\n\\n\\n<div class=\"opt mod\">\\n    <div class=\"tabs\">\\n      \\n    \\n\\n    </div>\\n    <span id=\"mine-selector\">\\n      <input type=\"checkbox\"  value=\"unwatched\">我没看过的\\n    </span>\\n</div>\\n\\n\\n\\n<ol class=\"grid_view\">\\n        <li>\\n            <div class=\"item\">\\n                <div class=\"pic\">\\n                    <em class=\"\">1</em>\\n                    <a href=\"https://movie.douban.com/subject/1292052/\">\\n                        <img width=\"100\" alt=\"肖申克的救赎\" src=\"https://img2.doubanio.com/view/photo/s_ratio_poster/public/p480747492.jpg\" class=\"\">\\n                    </a>\\n                </div>\\n                <div class=\"info\">\\n                    <div class=\"hd\">\\n                        <a href=\"https://movie.douban.com/subject/1292052/\" class=\"\">\\n                            <span class=\"title\">肖申克的救赎</span>\\n                                    <span class=\"title\">&nbsp;/&nbsp;The Shawshank Redemption</span>\\n                                <span class=\"other\">&nbsp;/&nbsp;月黑高飞(港)  /  刺激1995(台)</span>\\n                        </a>\\n\\n\\n                            <span class=\"playable\">[可播放]</span>\\n                    </div>\\n                    <div class=\"bd\">\\n                        <p class=\"\">\\n                            导演: 弗兰克·德拉邦特 Frank Darabont&nbsp;&nbsp;&nbsp;主演: 蒂姆·罗宾斯 Tim Robbins /...<br>\\n                            1994&nbsp;/&nbsp;美国&nbsp;/&nbsp;犯罪 剧情\\n                        </p>\\n\\n                        \\n                        <div class=\"star\">\\n                                <span class=\"rating5-t\"></span>\\n                                <span class=\"rating_num\" property=\"v:average\">9.7</span>\\n                                <span property=\"v:best\" content=\"10.0\"></span>\\n                                <span>2332300人评价</span>\\n                        </div>\\n\\n                            <p class=\"quote\">\\n                                <span class=\"inq\">希望让人自由。</span>\\n                            </p>\\n                    </div>\\n                </div>\\n            </div>\\n        </li>\\n        <li>\\n            <div class=\"item\">\\n                <div class=\"pic\">\\n                    <em class=\"\">2</em>\\n                    <a href=\"https://movie.douban.com/subject/1291546/\">\\n                        <img width=\"100\" alt=\"霸王别姬\" src=\"https://img3.doubanio.com/view/photo/s_ratio_poster/public/p2561716440.jpg\" class=\"\">\\n                    </a>\\n                </div>\\n                <div class=\"info\">\\n                    <div class=\"hd\">\\n                        <a href=\"https://movie.douban.com/subject/1291546/\" class=\"\">\\n                            <span class=\"title\">霸王别姬</span>\\n                                <span class=\"other\">&nbsp;/&nbsp;再见，我的妾  /  Farewell My Concubine</span>\\n                        </a>\\n\\n\\n                            <span class=\"playable\">[可播放]</span>\\n                    </div>\\n                    <div class=\"bd\">\\n                        <p class=\"\">\\n                            导演: 陈凯歌 Kaige Chen&nbsp;&nbsp;&nbsp;主演: 张国荣 Leslie Cheung / 张丰毅 Fengyi Zha...<br>\\n                            1993&nbsp;/&nbsp;中国大陆 中国香港&nbsp;/&nbsp;剧情 爱情 同性\\n                        </p>\\n\\n                        \\n                        <div class=\"star\">\\n                                <span class=\"rating5-t\"></span>\\n                                <span class=\"rating_num\" property=\"v:average\">9.6</span>\\n                                <span property=\"v:best\" content=\"10.0\"></span>\\n                                <span>1734116人评价</span>\\n                        </div>\\n\\n                            <p class=\"quote\">\\n                                <span class=\"inq\">风华绝代。</span>\\n                            </p>\\n                    </div>\\n                </div>\\n            </div>\\n        </li>\\n        <li>\\n            <div class=\"item\">\\n                <div class=\"pic\">\\n                    <em class=\"\">3</em>\\n                    <a href=\"https://movie.douban.com/subject/1292720/\">\\n                        <img width=\"100\" alt=\"阿甘正传\" src=\"https://img2.doubanio.com/view/photo/s_ratio_poster/public/p2372307693.jpg\" class=\"\">\\n                    </a>\\n                </div>\\n                <div class=\"info\">\\n                    <div class=\"hd\">\\n                        <a href=\"https://movie.douban.com/subject/1292720/\" class=\"\">\\n                            <span class=\"title\">阿甘正传</span>\\n                                    <span class=\"title\">&nbsp;/&nbsp;Forrest Gump</span>\\n                                <span class=\"other\">&nbsp;/&nbsp;福雷斯特·冈普</span>\\n                        </a>\\n\\n\\n                            <span class=\"playable\">[可播放]</span>\\n                    </div>\\n                    <div class=\"bd\">\\n                        <p class=\"\">\\n                            导演: 罗伯特·泽米吉斯 Robert Zemeckis&nbsp;&nbsp;&nbsp;主演: 汤姆·汉克斯 Tom Hanks / ...<br>\\n                            1994&nbsp;/&nbsp;美国&nbsp;/&nbsp;剧情 爱情\\n                        </p>\\n\\n                        \\n                        <div class=\"star\">\\n                                <span class=\"rating5-t\"></span>\\n                                <span class=\"rating_num\" property=\"v:average\">9.5</span>\\n                                <span property=\"v:best\" content=\"10.0\"></span>\\n                                <span>1755351人评价</span>\\n                        </div>\\n\\n                            <p class=\"quote\">\\n                                <span class=\"inq\">一部美国近现代史。</span>\\n                            </p>\\n                    </div>\\n                </div>\\n            </div>\\n        </li>\\n        <li>\\n            <div class=\"item\">\\n                <div class=\"pic\">\\n                    <em class=\"\">4</em>\\n                    <a href=\"https://movie.douban.com/subject/1295644/\">\\n                        <img width=\"100\" alt=\"这个杀手不太冷\" src=\"https://img3.doubanio.com/view/photo/s_ratio_poster/public/p511118051.jpg\" class=\"\">\\n                    </a>\\n                </div>\\n                <div class=\"info\">\\n                    <div class=\"hd\">\\n                        <a href=\"https://movie.douban.com/subject/1295644/\" class=\"\">\\n                            <span class=\"title\">这个杀手不太冷</span>\\n                                    <span class=\"title\">&nbsp;/&nbsp;Léon</span>\\n                                <span class=\"other\">&nbsp;/&nbsp;杀手莱昂  /  终极追杀令(台)</span>\\n                        </a>\\n\\n\\n                    </div>\\n                    <div class=\"bd\">\\n                        <p class=\"\">\\n                            导演: 吕克·贝松 Luc Besson&nbsp;&nbsp;&nbsp;主演: 让·雷诺 Jean Reno / 娜塔莉·波特曼 ...<br>\\n                            1994&nbsp;/&nbsp;法国 美国&nbsp;/&nbsp;剧情 动作 犯罪\\n                        </p>\\n\\n                        \\n                        <div class=\"star\">\\n                                <span class=\"rating45-t\"></span>\\n                                <span class=\"rating_num\" property=\"v:average\">9.4</span>\\n                                <span property=\"v:best\" content=\"10.0\"></span>\\n                                <span>1932617人评价</span>\\n                        </div>\\n\\n                            <p class=\"quote\">\\n                                <span class=\"inq\">怪蜀黍和小萝莉不得不说的故事。</span>\\n                            </p>\\n                    </div>\\n                </div>\\n            </div>\\n        </li>\\n        <li>\\n            <div class=\"item\">\\n                <div class=\"pic\">\\n                    <em class=\"\">5</em>\\n                    <a href=\"https://movie.douban.com/subject/1292722/\">\\n                        <img width=\"100\" alt=\"泰坦尼克号\" src=\"https://img9.doubanio.com/view/photo/s_ratio_poster/public/p457760035.jpg\" class=\"\">\\n                    </a>\\n                </div>\\n                <div class=\"info\">\\n                    <div class=\"hd\">\\n                        <a href=\"https://movie.douban.com/subject/1292722/\" class=\"\">\\n                            <span class=\"title\">泰坦尼克号</span>\\n                                    <span class=\"title\">&nbsp;/&nbsp;Titanic</span>\\n                                <span class=\"other\">&nbsp;/&nbsp;铁达尼号(港 / 台)</span>\\n                        </a>\\n\\n\\n                            <span class=\"playable\">[可播放]</span>\\n                    </div>\\n                    <div class=\"bd\">\\n                        <p class=\"\">\\n                            导演: 詹姆斯·卡梅隆 James Cameron&nbsp;&nbsp;&nbsp;主演: 莱昂纳多·迪卡普里奥 Leonardo...<br>\\n                            1997&nbsp;/&nbsp;美国 墨西哥 澳大利亚 加拿大&nbsp;/&nbsp;剧情 爱情 灾难\\n                        </p>\\n\\n                        \\n                        <div class=\"star\">\\n                                <span class=\"rating45-t\"></span>\\n                                <span class=\"rating_num\" property=\"v:average\">9.4</span>\\n                                <span property=\"v:best\" content=\"10.0\"></span>\\n                                <span>1717305人评价</span>\\n                        </div>\\n\\n                            <p class=\"quote\">\\n                                <span class=\"inq\">失去的才是永恒的。 </span>\\n                            </p>\\n                    </div>\\n                </div>\\n            </div>\\n        </li>\\n        <li>\\n            <div class=\"item\">\\n                <div class=\"pic\">\\n                    <em class=\"\">6</em>\\n                    <a href=\"https://movie.douban.com/subject/1292063/\">\\n                        <img width=\"100\" alt=\"美丽人生\" src=\"https://img2.doubanio.com/view/photo/s_ratio_poster/public/p2578474613.jpg\" class=\"\">\\n                    </a>\\n                </div>\\n                <div class=\"info\">\\n                    <div class=\"hd\">\\n                        <a href=\"https://movie.douban.com/subject/1292063/\" class=\"\">\\n                            <span class=\"title\">美丽人生</span>\\n                                    <span class=\"title\">&nbsp;/&nbsp;La vita è bella</span>\\n                                <span class=\"other\">&nbsp;/&nbsp;一个快乐的传说(港)  /  Life Is Beautiful</span>\\n                        </a>\\n\\n\\n                            <span class=\"playable\">[可播放]</span>\\n                    </div>\\n                    <div class=\"bd\">\\n                        <p class=\"\">\\n                            导演: 罗伯托·贝尼尼 Roberto Benigni&nbsp;&nbsp;&nbsp;主演: 罗伯托·贝尼尼 Roberto Beni...<br>\\n                            1997&nbsp;/&nbsp;意大利&nbsp;/&nbsp;剧情 喜剧 爱情 战争\\n                        </p>\\n\\n                        \\n                        <div class=\"star\">\\n                                <span class=\"rating5-t\"></span>\\n                                <span class=\"rating_num\" property=\"v:average\">9.5</span>\\n                                <span property=\"v:best\" content=\"10.0\"></span>\\n                                <span>1081507人评价</span>\\n                        </div>\\n\\n                            <p class=\"quote\">\\n                                <span class=\"inq\">最美的谎言。</span>\\n                            </p>\\n                    </div>\\n                </div>\\n            </div>\\n        </li>\\n        <li>\\n            <div class=\"item\">\\n                <div class=\"pic\">\\n                    <em class=\"\">7</em>\\n                    <a href=\"https://movie.douban.com/subject/1291561/\">\\n                        <img width=\"100\" alt=\"千与千寻\" src=\"https://img1.doubanio.com/view/photo/s_ratio_poster/public/p2557573348.jpg\" class=\"\">\\n                    </a>\\n                </div>\\n                <div class=\"info\">\\n                    <div class=\"hd\">\\n                        <a href=\"https://movie.douban.com/subject/1291561/\" class=\"\">\\n                            <span class=\"title\">千与千寻</span>\\n                                    <span class=\"title\">&nbsp;/&nbsp;千と千尋の神隠し</span>\\n                                <span class=\"other\">&nbsp;/&nbsp;神隐少女(台)  /  千与千寻的神隐</span>\\n                        </a>\\n\\n\\n                            <span class=\"playable\">[可播放]</span>\\n                    </div>\\n                    <div class=\"bd\">\\n                        <p class=\"\">\\n                            导演: 宫崎骏 Hayao Miyazaki&nbsp;&nbsp;&nbsp;主演: 柊瑠美 Rumi Hîragi / 入野自由 Miy...<br>\\n                            2001&nbsp;/&nbsp;日本&nbsp;/&nbsp;剧情 动画 奇幻\\n                        </p>\\n\\n                        \\n                        <div class=\"star\">\\n                                <span class=\"rating45-t\"></span>\\n                                <span class=\"rating_num\" property=\"v:average\">9.4</span>\\n                                <span property=\"v:best\" content=\"10.0\"></span>\\n                                <span>1833565人评价</span>\\n                        </div>\\n\\n                            <p class=\"quote\">\\n                                <span class=\"inq\">最好的宫崎骏，最好的久石让。 </span>\\n                            </p>\\n                    </div>\\n                </div>\\n            </div>\\n        </li>\\n        <li>\\n            <div class=\"item\">\\n                <div class=\"pic\">\\n                    <em class=\"\">8</em>\\n                    <a href=\"https://movie.douban.com/subject/1295124/\">\\n                        <img width=\"100\" alt=\"辛德勒的名单\" src=\"https://img2.doubanio.com/view/photo/s_ratio_poster/public/p492406163.jpg\" class=\"\">\\n                    </a>\\n                </div>\\n                <div class=\"info\">\\n                    <div class=\"hd\">\\n                        <a href=\"https://movie.douban.com/subject/1295124/\" class=\"\">\\n                            <span class=\"title\">辛德勒的名单</span>\\n                                    <span class=\"title\">&nbsp;/&nbsp;Schindler&#39;s List</span>\\n                                <span class=\"other\">&nbsp;/&nbsp;舒特拉的名单(港)  /  辛德勒名单</span>\\n                        </a>\\n\\n\\n                            <span class=\"playable\">[可播放]</span>\\n                    </div>\\n                    <div class=\"bd\">\\n                        <p class=\"\">\\n                            导演: 史蒂文·斯皮尔伯格 Steven Spielberg&nbsp;&nbsp;&nbsp;主演: 连姆·尼森 Liam Neeson...<br>\\n                            1993&nbsp;/&nbsp;美国&nbsp;/&nbsp;剧情 历史 战争\\n                        </p>\\n\\n                        \\n                        <div class=\"star\">\\n                                <span class=\"rating5-t\"></span>\\n                                <span class=\"rating_num\" property=\"v:average\">9.5</span>\\n                                <span property=\"v:best\" content=\"10.0\"></span>\\n                                <span>896522人评价</span>\\n                        </div>\\n\\n                            <p class=\"quote\">\\n                                <span class=\"inq\">拯救一个人，就是拯救整个世界。</span>\\n                            </p>\\n                    </div>\\n                </div>\\n            </div>\\n        </li>\\n        <li>\\n            <div class=\"item\">\\n                <div class=\"pic\">\\n                    <em class=\"\">9</em>\\n                    <a href=\"https://movie.douban.com/subject/3541415/\">\\n                        <img width=\"100\" alt=\"盗梦空间\" src=\"https://img2.doubanio.com/view/photo/s_ratio_poster/public/p2616355133.jpg\" class=\"\">\\n                    </a>\\n                </div>\\n                <div class=\"info\">\\n                    <div class=\"hd\">\\n                        <a href=\"https://movie.douban.com/subject/3541415/\" class=\"\">\\n                            <span class=\"title\">盗梦空间</span>\\n                                    <span class=\"title\">&nbsp;/&nbsp;Inception</span>\\n                                <span class=\"other\">&nbsp;/&nbsp;潜行凶间(港)  /  全面启动(台)</span>\\n                        </a>\\n\\n\\n                            <span class=\"playable\">[可播放]</span>\\n                    </div>\\n                    <div class=\"bd\">\\n                        <p class=\"\">\\n                            导演: 克里斯托弗·诺兰 Christopher Nolan&nbsp;&nbsp;&nbsp;主演: 莱昂纳多·迪卡普里奥 Le...<br>\\n                            2010&nbsp;/&nbsp;美国 英国&nbsp;/&nbsp;剧情 科幻 悬疑 冒险\\n                        </p>\\n\\n                        \\n                        <div class=\"star\">\\n                                <span class=\"rating45-t\"></span>\\n                                <span class=\"rating_num\" property=\"v:average\">9.3</span>\\n                                <span property=\"v:best\" content=\"10.0\"></span>\\n                                <span>1697470人评价</span>\\n                        </div>\\n\\n                            <p class=\"quote\">\\n                                <span class=\"inq\">诺兰给了我们一场无法盗取的梦。</span>\\n                            </p>\\n                    </div>\\n                </div>\\n            </div>\\n        </li>\\n        <li>\\n            <div class=\"item\">\\n                <div class=\"pic\">\\n                    <em class=\"\">10</em>\\n                    <a href=\"https://movie.douban.com/subject/3011091/\">\\n                        <img width=\"100\" alt=\"忠犬八公的故事\" src=\"https://img1.doubanio.com/view/photo/s_ratio_poster/public/p524964039.jpg\" class=\"\">\\n                    </a>\\n                </div>\\n                <div class=\"info\">\\n                    <div class=\"hd\">\\n                        <a href=\"https://movie.douban.com/subject/3011091/\" class=\"\">\\n                            <span class=\"title\">忠犬八公的故事</span>\\n                                    <span class=\"title\">&nbsp;/&nbsp;Hachi: A Dog&#39;s Tale</span>\\n                                <span class=\"other\">&nbsp;/&nbsp;秋田犬八千(港)  /  忠犬小八(台)</span>\\n                        </a>\\n\\n\\n                            <span class=\"playable\">[可播放]</span>\\n                    </div>\\n                    <div class=\"bd\">\\n                        <p class=\"\">\\n                            导演: 莱塞·霍尔斯道姆 Lasse Hallström&nbsp;&nbsp;&nbsp;主演: 理查·基尔 Richard Ger...<br>\\n                            2009&nbsp;/&nbsp;美国 英国&nbsp;/&nbsp;剧情\\n                        </p>\\n\\n                        \\n                        <div class=\"star\">\\n                                <span class=\"rating45-t\"></span>\\n                                <span class=\"rating_num\" property=\"v:average\">9.4</span>\\n                                <span property=\"v:best\" content=\"10.0\"></span>\\n                                <span>1165428人评价</span>\\n                        </div>\\n\\n                            <p class=\"quote\">\\n                                <span class=\"inq\">永远都不能忘记你所爱的人。</span>\\n                            </p>\\n                    </div>\\n                </div>\\n            </div>\\n        </li>\\n        <li>\\n            <div class=\"item\">\\n                <div class=\"pic\">\\n                    <em class=\"\">11</em>\\n                    <a href=\"https://movie.douban.com/subject/1889243/\">\\n                        <img width=\"100\" alt=\"星际穿越\" src=\"https://img1.doubanio.com/view/photo/s_ratio_poster/public/p2614988097.jpg\" class=\"\">\\n                    </a>\\n                </div>\\n                <div class=\"info\">\\n                    <div class=\"hd\">\\n                        <a href=\"https://movie.douban.com/subject/1889243/\" class=\"\">\\n                            <span class=\"title\">星际穿越</span>\\n                                    <span class=\"title\">&nbsp;/&nbsp;Interstellar</span>\\n                                <span class=\"other\">&nbsp;/&nbsp;星际启示录(港)  /  星际效应(台)</span>\\n                        </a>\\n\\n\\n                            <span class=\"playable\">[可播放]</span>\\n                    </div>\\n                    <div class=\"bd\">\\n                        <p class=\"\">\\n                            导演: 克里斯托弗·诺兰 Christopher Nolan&nbsp;&nbsp;&nbsp;主演: 马修·麦康纳 Matthew Mc...<br>\\n                            2014&nbsp;/&nbsp;美国 英国 加拿大&nbsp;/&nbsp;剧情 科幻 冒险\\n                        </p>\\n\\n                        \\n                        <div class=\"star\">\\n                                <span class=\"rating45-t\"></span>\\n                                <span class=\"rating_num\" property=\"v:average\">9.3</span>\\n                                <span property=\"v:best\" content=\"10.0\"></span>\\n                                <span>1370352人评价</span>\\n                        </div>\\n\\n                            <p class=\"quote\">\\n                                <span class=\"inq\">爱是一种力量，让我们超越时空感知它的存在。</span>\\n                            </p>\\n                    </div>\\n                </div>\\n            </div>\\n        </li>\\n        <li>\\n            <div class=\"item\">\\n                <div class=\"pic\">\\n                    <em class=\"\">12</em>\\n                    <a href=\"https://movie.douban.com/subject/1292064/\">\\n                        <img width=\"100\" alt=\"楚门的世界\" src=\"https://img2.doubanio.com/view/photo/s_ratio_poster/public/p479682972.jpg\" class=\"\">\\n                    </a>\\n                </div>\\n                <div class=\"info\">\\n                    <div class=\"hd\">\\n                        <a href=\"https://movie.douban.com/subject/1292064/\" class=\"\">\\n                            <span class=\"title\">楚门的世界</span>\\n                                    <span class=\"title\">&nbsp;/&nbsp;The Truman Show</span>\\n                                <span class=\"other\">&nbsp;/&nbsp;真人Show(港)  /  真人戏</span>\\n                        </a>\\n\\n\\n                            <span class=\"playable\">[可播放]</span>\\n                    </div>\\n                    <div class=\"bd\">\\n                        <p class=\"\">\\n                            导演: 彼得·威尔 Peter Weir&nbsp;&nbsp;&nbsp;主演: 金·凯瑞 Jim Carrey / 劳拉·琳妮 Lau...<br>\\n                            1998&nbsp;/&nbsp;美国&nbsp;/&nbsp;剧情 科幻\\n                        </p>\\n\\n                        \\n                        <div class=\"star\">\\n                                <span class=\"rating45-t\"></span>\\n                                <span class=\"rating_num\" property=\"v:average\">9.3</span>\\n                                <span property=\"v:best\" content=\"10.0\"></span>\\n                                <span>1284686人评价</span>\\n                        </div>\\n\\n                            <p class=\"quote\">\\n                                <span class=\"inq\">如果再也不能见到你，祝你早安，午安，晚安。</span>\\n                            </p>\\n                    </div>\\n                </div>\\n            </div>\\n        </li>\\n        <li>\\n            <div class=\"item\">\\n                <div class=\"pic\">\\n                    <em class=\"\">13</em>\\n                    <a href=\"https://movie.douban.com/subject/1292001/\">\\n                        <img width=\"100\" alt=\"海上钢琴师\" src=\"https://img9.doubanio.com/view/photo/s_ratio_poster/public/p2574551676.jpg\" class=\"\">\\n                    </a>\\n                </div>\\n                <div class=\"info\">\\n                    <div class=\"hd\">\\n                        <a href=\"https://movie.douban.com/subject/1292001/\" class=\"\">\\n                            <span class=\"title\">海上钢琴师</span>\\n                                    <span class=\"title\">&nbsp;/&nbsp;La leggenda del pianista sull&#39;oceano</span>\\n                                <span class=\"other\">&nbsp;/&nbsp;声光伴我飞(港)  /  一九零零的传奇</span>\\n                        </a>\\n\\n\\n                            <span class=\"playable\">[可播放]</span>\\n                    </div>\\n                    <div class=\"bd\">\\n                        <p class=\"\">\\n                            导演: 朱塞佩·托纳多雷 Giuseppe Tornatore&nbsp;&nbsp;&nbsp;主演: 蒂姆·罗斯 Tim Roth / ...<br>\\n                            1998&nbsp;/&nbsp;意大利&nbsp;/&nbsp;剧情 音乐\\n                        </p>\\n\\n                        \\n                        <div class=\"star\">\\n                                <span class=\"rating45-t\"></span>\\n                                <span class=\"rating_num\" property=\"v:average\">9.3</span>\\n                                <span property=\"v:best\" content=\"10.0\"></span>\\n                                <span>1379231人评价</span>\\n                        </div>\\n\\n                            <p class=\"quote\">\\n                                <span class=\"inq\">每个人都要走一条自己坚定了的路，就算是粉身碎骨。 </span>\\n                            </p>\\n                    </div>\\n                </div>\\n            </div>\\n        </li>\\n        <li>\\n            <div class=\"item\">\\n                <div class=\"pic\">\\n                    <em class=\"\">14</em>\\n                    <a href=\"https://movie.douban.com/subject/3793023/\">\\n                        <img width=\"100\" alt=\"三傻大闹宝莱坞\" src=\"https://img3.doubanio.com/view/photo/s_ratio_poster/public/p579729551.jpg\" class=\"\">\\n                    </a>\\n                </div>\\n                <div class=\"info\">\\n                    <div class=\"hd\">\\n                        <a href=\"https://movie.douban.com/subject/3793023/\" class=\"\">\\n                            <span class=\"title\">三傻大闹宝莱坞</span>\\n                                    <span class=\"title\">&nbsp;/&nbsp;3 Idiots</span>\\n                                <span class=\"other\">&nbsp;/&nbsp;三个傻瓜(台)  /  作死不离3兄弟(港)</span>\\n                        </a>\\n\\n\\n                            <span class=\"playable\">[可播放]</span>\\n                    </div>\\n                    <div class=\"bd\">\\n                        <p class=\"\">\\n                            导演: 拉库马·希拉尼 Rajkumar Hirani&nbsp;&nbsp;&nbsp;主演: 阿米尔·汗 Aamir Khan / 卡...<br>\\n                            2009&nbsp;/&nbsp;印度&nbsp;/&nbsp;剧情 喜剧 爱情 歌舞\\n                        </p>\\n\\n                        \\n                        <div class=\"star\">\\n                                <span class=\"rating45-t\"></span>\\n                                <span class=\"rating_num\" property=\"v:average\">9.2</span>\\n                                <span property=\"v:best\" content=\"10.0\"></span>\\n                                <span>1549651人评价</span>\\n                        </div>\\n\\n                            <p class=\"quote\">\\n                                <span class=\"inq\">英俊版憨豆，高情商版谢耳朵。</span>\\n                            </p>\\n                    </div>\\n                </div>\\n            </div>\\n        </li>\\n        <li>\\n            <div class=\"item\">\\n                <div class=\"pic\">\\n                    <em class=\"\">15</em>\\n                    <a href=\"https://movie.douban.com/subject/2131459/\">\\n                        <img width=\"100\" alt=\"机器人总动员\" src=\"https://img3.doubanio.com/view/photo/s_ratio_poster/public/p1461851991.jpg\" class=\"\">\\n                    </a>\\n                </div>\\n                <div class=\"info\">\\n                    <div class=\"hd\">\\n                        <a href=\"https://movie.douban.com/subject/2131459/\" class=\"\">\\n                            <span class=\"title\">机器人总动员</span>\\n                                    <span class=\"title\">&nbsp;/&nbsp;WALL·E</span>\\n                                <span class=\"other\">&nbsp;/&nbsp;太空奇兵·威E(港)  /  瓦力(台)</span>\\n                        </a>\\n\\n\\n                            <span class=\"playable\">[可播放]</span>\\n                    </div>\\n                    <div class=\"bd\">\\n                        <p class=\"\">\\n                            导演: 安德鲁·斯坦顿 Andrew Stanton&nbsp;&nbsp;&nbsp;主演: 本·贝尔特 Ben Burtt / 艾丽...<br>\\n                            2008&nbsp;/&nbsp;美国&nbsp;/&nbsp;科幻 动画 冒险\\n                        </p>\\n\\n                        \\n                        <div class=\"star\">\\n                                <span class=\"rating45-t\"></span>\\n                                <span class=\"rating_num\" property=\"v:average\">9.3</span>\\n                                <span property=\"v:best\" content=\"10.0\"></span>\\n                                <span>1090706人评价</span>\\n                        </div>\\n\\n                            <p class=\"quote\">\\n                                <span class=\"inq\">小瓦力，大人生。</span>\\n                            </p>\\n                    </div>\\n                </div>\\n            </div>\\n        </li>\\n        <li>\\n            <div class=\"item\">\\n                <div class=\"pic\">\\n                    <em class=\"\">16</em>\\n                    <a href=\"https://movie.douban.com/subject/1291549/\">\\n                        <img width=\"100\" alt=\"放牛班的春天\" src=\"https://img3.doubanio.com/view/photo/s_ratio_poster/public/p1910824951.jpg\" class=\"\">\\n                    </a>\\n                </div>\\n                <div class=\"info\">\\n                    <div class=\"hd\">\\n                        <a href=\"https://movie.douban.com/subject/1291549/\" class=\"\">\\n                            <span class=\"title\">放牛班的春天</span>\\n                                    <span class=\"title\">&nbsp;/&nbsp;Les choristes</span>\\n                                <span class=\"other\">&nbsp;/&nbsp;歌声伴我心(港)  /  唱诗班男孩</span>\\n                        </a>\\n\\n\\n                            <span class=\"playable\">[可播放]</span>\\n                    </div>\\n                    <div class=\"bd\">\\n                        <p class=\"\">\\n                            导演: 克里斯托夫·巴拉蒂 Christophe Barratier&nbsp;&nbsp;&nbsp;主演: 热拉尔·朱尼奥 Gé...<br>\\n                            2004&nbsp;/&nbsp;法国 瑞士 德国&nbsp;/&nbsp;剧情 喜剧 音乐\\n                        </p>\\n\\n                        \\n                        <div class=\"star\">\\n                                <span class=\"rating45-t\"></span>\\n                                <span class=\"rating_num\" property=\"v:average\">9.3</span>\\n                                <span property=\"v:best\" content=\"10.0\"></span>\\n                                <span>1074020人评价</span>\\n                        </div>\\n\\n                            <p class=\"quote\">\\n                                <span class=\"inq\">天籁一般的童声，是最接近上帝的存在。 </span>\\n                            </p>\\n                    </div>\\n                </div>\\n            </div>\\n        </li>\\n        <li>\\n            <div class=\"item\">\\n                <div class=\"pic\">\\n                    <em class=\"\">17</em>\\n                    <a href=\"https://movie.douban.com/subject/1292213/\">\\n                        <img width=\"100\" alt=\"大话西游之大圣娶亲\" src=\"https://img9.doubanio.com/view/photo/s_ratio_poster/public/p2455050536.jpg\" class=\"\">\\n                    </a>\\n                </div>\\n                <div class=\"info\">\\n                    <div class=\"hd\">\\n                        <a href=\"https://movie.douban.com/subject/1292213/\" class=\"\">\\n                            <span class=\"title\">大话西游之大圣娶亲</span>\\n                                    <span class=\"title\">&nbsp;/&nbsp;西遊記大結局之仙履奇緣</span>\\n                                <span class=\"other\">&nbsp;/&nbsp;西游记完结篇仙履奇缘  /  齐天大圣西游记</span>\\n                        </a>\\n\\n\\n                            <span class=\"playable\">[可播放]</span>\\n                    </div>\\n                    <div class=\"bd\">\\n                        <p class=\"\">\\n                            导演: 刘镇伟 Jeffrey Lau&nbsp;&nbsp;&nbsp;主演: 周星驰 Stephen Chow / 吴孟达 Man Tat Ng...<br>\\n                            1995&nbsp;/&nbsp;中国香港 中国大陆&nbsp;/&nbsp;喜剧 爱情 奇幻 古装\\n                        </p>\\n\\n                        \\n                        <div class=\"star\">\\n                                <span class=\"rating45-t\"></span>\\n                                <span class=\"rating_num\" property=\"v:average\">9.2</span>\\n                                <span property=\"v:best\" content=\"10.0\"></span>\\n                                <span>1253102人评价</span>\\n                        </div>\\n\\n                            <p class=\"quote\">\\n                                <span class=\"inq\">一生所爱。</span>\\n                            </p>\\n                    </div>\\n                </div>\\n            </div>\\n        </li>\\n        <li>\\n            <div class=\"item\">\\n                <div class=\"pic\">\\n                    <em class=\"\">18</em>\\n                    <a href=\"https://movie.douban.com/subject/25662329/\">\\n                        <img width=\"100\" alt=\"疯狂动物城\" src=\"https://img1.doubanio.com/view/photo/s_ratio_poster/public/p2614500649.jpg\" class=\"\">\\n                    </a>\\n                </div>\\n                <div class=\"info\">\\n                    <div class=\"hd\">\\n                        <a href=\"https://movie.douban.com/subject/25662329/\" class=\"\">\\n                            <span class=\"title\">疯狂动物城</span>\\n                                    <span class=\"title\">&nbsp;/&nbsp;Zootopia</span>\\n                                <span class=\"other\">&nbsp;/&nbsp;优兽大都会(港)  /  动物方城市(台)</span>\\n                        </a>\\n\\n\\n                            <span class=\"playable\">[可播放]</span>\\n                    </div>\\n                    <div class=\"bd\">\\n                        <p class=\"\">\\n                            导演: 拜伦·霍华德 Byron Howard / 瑞奇·摩尔 Rich Moore&nbsp;&nbsp;&nbsp;主演: 金妮弗·...<br>\\n                            2016&nbsp;/&nbsp;美国&nbsp;/&nbsp;喜剧 动画 冒险\\n                        </p>\\n\\n                        \\n                        <div class=\"star\">\\n                                <span class=\"rating45-t\"></span>\\n                                <span class=\"rating_num\" property=\"v:average\">9.2</span>\\n                                <span property=\"v:best\" content=\"10.0\"></span>\\n                                <span>1514223人评价</span>\\n                        </div>\\n\\n                            <p class=\"quote\">\\n                                <span class=\"inq\">迪士尼给我们营造的乌托邦就是这样，永远善良勇敢，永远出乎意料。</span>\\n                            </p>\\n                    </div>\\n                </div>\\n            </div>\\n        </li>\\n        <li>\\n            <div class=\"item\">\\n                <div class=\"pic\">\\n                    <em class=\"\">19</em>\\n                    <a href=\"https://movie.douban.com/subject/1307914/\">\\n                        <img width=\"100\" alt=\"无间道\" src=\"https://img2.doubanio.com/view/photo/s_ratio_poster/public/p2564556863.jpg\" class=\"\">\\n                    </a>\\n                </div>\\n                <div class=\"info\">\\n                    <div class=\"hd\">\\n                        <a href=\"https://movie.douban.com/subject/1307914/\" class=\"\">\\n                            <span class=\"title\">无间道</span>\\n                                    <span class=\"title\">&nbsp;/&nbsp;無間道</span>\\n                                <span class=\"other\">&nbsp;/&nbsp;Infernal Affairs  /  Mou gaan dou</span>\\n                        </a>\\n\\n\\n                            <span class=\"playable\">[可播放]</span>\\n                    </div>\\n                    <div class=\"bd\">\\n                        <p class=\"\">\\n                            导演: 刘伟强 / 麦兆辉&nbsp;&nbsp;&nbsp;主演: 刘德华 / 梁朝伟 / 黄秋生<br>\\n                            2002&nbsp;/&nbsp;中国香港&nbsp;/&nbsp;剧情 犯罪 悬疑\\n                        </p>\\n\\n                        \\n                        <div class=\"star\">\\n                                <span class=\"rating45-t\"></span>\\n                                <span class=\"rating_num\" property=\"v:average\">9.2</span>\\n                                <span property=\"v:best\" content=\"10.0\"></span>\\n                                <span>1040489人评价</span>\\n                        </div>\\n\\n                            <p class=\"quote\">\\n                                <span class=\"inq\">香港电影史上永不过时的杰作。</span>\\n                            </p>\\n                    </div>\\n                </div>\\n            </div>\\n        </li>\\n        <li>\\n            <div class=\"item\">\\n                <div class=\"pic\">\\n                    <em class=\"\">20</em>\\n                    <a href=\"https://movie.douban.com/subject/5912992/\">\\n                        <img width=\"100\" alt=\"熔炉\" src=\"https://img9.doubanio.com/view/photo/s_ratio_poster/public/p1363250216.jpg\" class=\"\">\\n                    </a>\\n                </div>\\n                <div class=\"info\">\\n                    <div class=\"hd\">\\n                        <a href=\"https://movie.douban.com/subject/5912992/\" class=\"\">\\n                            <span class=\"title\">熔炉</span>\\n                                    <span class=\"title\">&nbsp;/&nbsp;도가니</span>\\n                                <span class=\"other\">&nbsp;/&nbsp;无声呐喊(港)  /  漩涡</span>\\n                        </a>\\n\\n\\n                    </div>\\n                    <div class=\"bd\">\\n                        <p class=\"\">\\n                            导演: 黄东赫 Dong-hyuk Hwang&nbsp;&nbsp;&nbsp;主演: 孔侑 Yoo Gong / 郑有美 Yu-mi Jung /...<br>\\n                            2011&nbsp;/&nbsp;韩国&nbsp;/&nbsp;剧情\\n                        </p>\\n\\n                        \\n                        <div class=\"star\">\\n                                <span class=\"rating45-t\"></span>\\n                                <span class=\"rating_num\" property=\"v:average\">9.3</span>\\n                                <span property=\"v:best\" content=\"10.0\"></span>\\n                                <span>761233人评价</span>\\n                        </div>\\n\\n                            <p class=\"quote\">\\n                                <span class=\"inq\">我们一路奋战不是为了改变世界，而是为了不让世界改变我们。</span>\\n                            </p>\\n                    </div>\\n                </div>\\n            </div>\\n        </li>\\n        <li>\\n            <div class=\"item\">\\n                <div class=\"pic\">\\n                    <em class=\"\">21</em>\\n                    <a href=\"https://movie.douban.com/subject/1291841/\">\\n                        <img width=\"100\" alt=\"教父\" src=\"https://img9.doubanio.com/view/photo/s_ratio_poster/public/p616779645.jpg\" class=\"\">\\n                    </a>\\n                </div>\\n                <div class=\"info\">\\n                    <div class=\"hd\">\\n                        <a href=\"https://movie.douban.com/subject/1291841/\" class=\"\">\\n                            <span class=\"title\">教父</span>\\n                                    <span class=\"title\">&nbsp;/&nbsp;The Godfather</span>\\n                                <span class=\"other\">&nbsp;/&nbsp;Mario Puzo&#39;s The Godfather</span>\\n                        </a>\\n\\n\\n                            <span class=\"playable\">[可播放]</span>\\n                    </div>\\n                    <div class=\"bd\">\\n                        <p class=\"\">\\n                            导演: 弗朗西斯·福特·科波拉 Francis Ford Coppola&nbsp;&nbsp;&nbsp;主演: 马龙·白兰度 M...<br>\\n                            1972&nbsp;/&nbsp;美国&nbsp;/&nbsp;剧情 犯罪\\n                        </p>\\n\\n                        \\n                        <div class=\"star\">\\n                                <span class=\"rating45-t\"></span>\\n                                <span class=\"rating_num\" property=\"v:average\">9.3</span>\\n                                <span property=\"v:best\" content=\"10.0\"></span>\\n                                <span>761866人评价</span>\\n                        </div>\\n\\n                            <p class=\"quote\">\\n                                <span class=\"inq\">千万不要记恨你的对手，这样会让你失去理智。</span>\\n                            </p>\\n                    </div>\\n                </div>\\n            </div>\\n        </li>\\n        <li>\\n            <div class=\"item\">\\n                <div class=\"pic\">\\n                    <em class=\"\">22</em>\\n                    <a href=\"https://movie.douban.com/subject/1849031/\">\\n                        <img width=\"100\" alt=\"当幸福来敲门\" src=\"https://img9.doubanio.com/view/photo/s_ratio_poster/public/p2614359276.jpg\" class=\"\">\\n                    </a>\\n                </div>\\n                <div class=\"info\">\\n                    <div class=\"hd\">\\n                        <a href=\"https://movie.douban.com/subject/1849031/\" class=\"\">\\n                            <span class=\"title\">当幸福来敲门</span>\\n                                    <span class=\"title\">&nbsp;/&nbsp;The Pursuit of Happyness</span>\\n                                <span class=\"other\">&nbsp;/&nbsp;寻找快乐的故事(港)  /  追求快乐</span>\\n                        </a>\\n\\n\\n                            <span class=\"playable\">[可播放]</span>\\n                    </div>\\n                    <div class=\"bd\">\\n                        <p class=\"\">\\n                            导演: 加布里尔·穆奇诺 Gabriele Muccino&nbsp;&nbsp;&nbsp;主演: 威尔·史密斯 Will Smith ...<br>\\n                            2006&nbsp;/&nbsp;美国&nbsp;/&nbsp;剧情 传记 家庭\\n                        </p>\\n\\n                        \\n                        <div class=\"star\">\\n                                <span class=\"rating45-t\"></span>\\n                                <span class=\"rating_num\" property=\"v:average\">9.1</span>\\n                                <span property=\"v:best\" content=\"10.0\"></span>\\n                                <span>1245153人评价</span>\\n                        </div>\\n\\n                            <p class=\"quote\">\\n                                <span class=\"inq\">平民励志片。 </span>\\n                            </p>\\n                    </div>\\n                </div>\\n            </div>\\n        </li>\\n        <li>\\n            <div class=\"item\">\\n                <div class=\"pic\">\\n                    <em class=\"\">23</em>\\n                    <a href=\"https://movie.douban.com/subject/1291560/\">\\n                        <img width=\"100\" alt=\"龙猫\" src=\"https://img9.doubanio.com/view/photo/s_ratio_poster/public/p2540924496.jpg\" class=\"\">\\n                    </a>\\n                </div>\\n                <div class=\"info\">\\n                    <div class=\"hd\">\\n                        <a href=\"https://movie.douban.com/subject/1291560/\" class=\"\">\\n                            <span class=\"title\">龙猫</span>\\n                                    <span class=\"title\">&nbsp;/&nbsp;となりのトトロ</span>\\n                                <span class=\"other\">&nbsp;/&nbsp;邻居托托罗  /  邻家的豆豆龙</span>\\n                        </a>\\n\\n\\n                            <span class=\"playable\">[可播放]</span>\\n                    </div>\\n                    <div class=\"bd\">\\n                        <p class=\"\">\\n                            导演: 宫崎骏 Hayao Miyazaki&nbsp;&nbsp;&nbsp;主演: 日高法子 Noriko Hidaka / 坂本千夏 Ch...<br>\\n                            1988&nbsp;/&nbsp;日本&nbsp;/&nbsp;动画 奇幻 冒险\\n                        </p>\\n\\n                        \\n                        <div class=\"star\">\\n                                <span class=\"rating45-t\"></span>\\n                                <span class=\"rating_num\" property=\"v:average\">9.2</span>\\n                                <span property=\"v:best\" content=\"10.0\"></span>\\n                                <span>1038494人评价</span>\\n                        </div>\\n\\n                            <p class=\"quote\">\\n                                <span class=\"inq\">人人心中都有个龙猫，童年就永远不会消失。</span>\\n                            </p>\\n                    </div>\\n                </div>\\n            </div>\\n        </li>\\n        <li>\\n            <div class=\"item\">\\n                <div class=\"pic\">\\n                    <em class=\"\">24</em>\\n                    <a href=\"https://movie.douban.com/subject/3319755/\">\\n                        <img width=\"100\" alt=\"怦然心动\" src=\"https://img1.doubanio.com/view/photo/s_ratio_poster/public/p501177648.jpg\" class=\"\">\\n                    </a>\\n                </div>\\n                <div class=\"info\">\\n                    <div class=\"hd\">\\n                        <a href=\"https://movie.douban.com/subject/3319755/\" class=\"\">\\n                            <span class=\"title\">怦然心动</span>\\n                                    <span class=\"title\">&nbsp;/&nbsp;Flipped</span>\\n                                <span class=\"other\">&nbsp;/&nbsp;萌动青春  /  青春萌动</span>\\n                        </a>\\n\\n\\n                            <span class=\"playable\">[可播放]</span>\\n                    </div>\\n                    <div class=\"bd\">\\n                        <p class=\"\">\\n                            导演: 罗伯·莱纳 Rob Reiner&nbsp;&nbsp;&nbsp;主演: 玛德琳·卡罗尔 Madeline Carroll / 卡...<br>\\n                            2010&nbsp;/&nbsp;美国&nbsp;/&nbsp;剧情 喜剧 爱情\\n                        </p>\\n\\n                        \\n                        <div class=\"star\">\\n                                <span class=\"rating45-t\"></span>\\n                                <span class=\"rating_num\" property=\"v:average\">9.1</span>\\n                                <span property=\"v:best\" content=\"10.0\"></span>\\n                                <span>1470439人评价</span>\\n                        </div>\\n\\n                            <p class=\"quote\">\\n                                <span class=\"inq\">真正的幸福是来自内心深处。</span>\\n                            </p>\\n                    </div>\\n                </div>\\n            </div>\\n        </li>\\n        <li>\\n            <div class=\"item\">\\n                <div class=\"pic\">\\n                    <em class=\"\">25</em>\\n                    <a href=\"https://movie.douban.com/subject/1296141/\">\\n                        <img width=\"100\" alt=\"控方证人\" src=\"https://img1.doubanio.com/view/photo/s_ratio_poster/public/p1505392928.jpg\" class=\"\">\\n                    </a>\\n                </div>\\n                <div class=\"info\">\\n                    <div class=\"hd\">\\n                        <a href=\"https://movie.douban.com/subject/1296141/\" class=\"\">\\n                            <span class=\"title\">控方证人</span>\\n                                    <span class=\"title\">&nbsp;/&nbsp;Witness for the Prosecution</span>\\n                                <span class=\"other\">&nbsp;/&nbsp;雄才伟略  /  情妇</span>\\n                        </a>\\n\\n\\n                            <span class=\"playable\">[可播放]</span>\\n                    </div>\\n                    <div class=\"bd\">\\n                        <p class=\"\">\\n                            导演: 比利·怀尔德 Billy Wilder&nbsp;&nbsp;&nbsp;主演: 泰隆·鲍华 Tyrone Power / 玛琳·...<br>\\n                            1957&nbsp;/&nbsp;美国&nbsp;/&nbsp;剧情 犯罪 悬疑\\n                        </p>\\n\\n                        \\n                        <div class=\"star\">\\n                                <span class=\"rating5-t\"></span>\\n                                <span class=\"rating_num\" property=\"v:average\">9.6</span>\\n                                <span property=\"v:best\" content=\"10.0\"></span>\\n                                <span>362402人评价</span>\\n                        </div>\\n\\n                            <p class=\"quote\">\\n                                <span class=\"inq\">比利·怀德满分作品。</span>\\n                            </p>\\n                    </div>\\n                </div>\\n            </div>\\n        </li>\\n</ol>\\n\\n\\n\\n    \\n    \\n    \\n\\n        <div class=\"paginator\">\\n        <span class=\"prev\">\\n            &lt;前页\\n        </span>\\n        \\n        \\n\\n                <span class=\"thispage\">1</span>\\n                \\n            <a href=\"?start=25&amp;filter=\" >2</a>\\n        \\n                \\n            <a href=\"?start=50&amp;filter=\" >3</a>\\n        \\n                \\n            <a href=\"?start=75&amp;filter=\" >4</a>\\n        \\n                \\n            <a href=\"?start=100&amp;filter=\" >5</a>\\n        \\n                \\n            <a href=\"?start=125&amp;filter=\" >6</a>\\n        \\n                \\n            <a href=\"?start=150&amp;filter=\" >7</a>\\n        \\n                \\n            <a href=\"?start=175&amp;filter=\" >8</a>\\n        \\n                \\n            <a href=\"?start=200&amp;filter=\" >9</a>\\n        \\n                \\n            <a href=\"?start=225&amp;filter=\" >10</a>\\n        \\n        <span class=\"next\">\\n            <link rel=\"next\" href=\"?start=25&amp;filter=\"/>\\n            <a href=\"?start=25&amp;filter=\" >后页&gt;</a>\\n        </span>\\n\\n            <span class=\"count\">(共250条)</span>\\n        </div>\\n\\n\\n\\n            </div>\\n            <div class=\"aside\">\\n                \\n<p class=\"pl\">\\n    豆瓣用户每天都在对“看过”的电影进行“很差”到“力荐”的评价，豆瓣根据每部影片看过的人数以及该影片所得的评价等综合数据，通过算法分析产生豆瓣电影 Top 250。\\n</p>\\n\\n<div id=\"dale_movie_top250_bottom_right\"></div>\\n\\n<!-- douban ad begin -->\\n\\n\\n\\n\\n\\n\\n<div class=\"mobile-app-entrance block5 app-movie\">\\n    <a class=\"entrance-link\" href=\"https://www.douban.com/doubanapp/frodo\">\\n        <div class=\"entrance-qrcode\">\\n            <img src=\"https://img3.doubanio.com/f/movie/a02f6ed325fc52e220f299d51e730c422e2bcd16/pics/movie/douban_app_ad/qrcode.png\" alt=\"扫码下载豆瓣 App\" width=\"80\" height=\"80\" />\\n        </div>\\n        <div class=\"entrance-info\">\\n            <span class=\"app-icon icon-movie\"></span>\\n            <span class=\"main-title\">豆瓣</span>\\n            <span class=\"sub-title\">让好电影来找你</span>\\n        </div>\\n    </a>\\n</div>\\n\\n<!-- douban ad end -->\\n\\n\\n            </div>\\n            <div class=\"extra\">\\n                \\n            </div>\\n        </div>\\n    </div>\\n\\n        \\n    <div id=\"footer\">\\n            <div class=\"footer-extra\"></div>\\n        \\n<span id=\"icp\" class=\"fleft gray-link\">\\n    &copy; 2005－2021 douban.com, all rights reserved 北京豆网科技有限公司\\n</span>\\n\\n<a href=\"https://www.douban.com/hnypt/variformcyst.py\" style=\"display: none;\"></a>\\n\\n<span class=\"fright\">\\n    <a href=\"https://www.douban.com/about\">关于豆瓣</a>\\n    · <a href=\"https://www.douban.com/jobs\">在豆瓣工作</a>\\n    · <a href=\"https://www.douban.com/about?topic=contactus\">联系我们</a>\\n    · <a href=\"https://www.douban.com/about/legal\">法律声明</a>\\n    \\n    · <a href=\"https://help.douban.com/?app=movie\" target=\"_blank\">帮助中心</a>\\n    · <a href=\"https://www.douban.com/doubanapp/\">移动应用</a>\\n    · <a href=\"https://www.douban.com/partner/\">豆瓣广告</a>\\n</span>\\n\\n    </div>\\n\\n    </div>\\n    <!-- COLLECTED JS -->\\n        \\n        \\n    <link rel=\"stylesheet\" type=\"text/css\" href=\"https://img3.doubanio.com/f/shire/8377b9498330a2e6f056d863987cc7a37eb4d486/css/ui/dialog.css\" />\\n    <link rel=\"stylesheet\" type=\"text/css\" href=\"https://img3.doubanio.com/f/movie/4aca95d66d37ec0712b3d19973b5d8feb75f2f05/css/movie/mod/reg_login_pop.css\" />\\n    <script type=\"text/javascript\" src=\"https://img3.doubanio.com/f/shire/2c0c1c6b83f9a457b0f38c38a32fc43a42ec9bad/js/do.js\" data-cfg-autoload=\"false\"></script>\\n    <script type=\"text/javascript\" src=\"https://img3.doubanio.com/f/shire/383a6e43f2108dc69e3ff2681bc4dc6c72a5ffb0/js/ui/dialog.js\"></script>\\n    <script type=\"text/javascript\">\\n        var HTTPS_DB=\\'https://www.douban.com\\';\\nvar account_pop={open:function(o,e){e?referrer=\"?referrer=\"+encodeURIComponent(e):referrer=\"?referrer=\"+window.location.href;var n=\"\",i=\"\",t=448;n=\"用户登录\",i=\"https://accounts.douban.com/passport/login_popup?source=movie\";var r=document.location.protocol+\"//\"+document.location.hostname,a=dui.Dialog({width:340,title:n,height:t,cls:\"account_pop\",isHideTitle:!0,modal:!0,content:\"<iframe scrolling=\\'no\\' frameborder=\\'0\\' width=\\'340\\' height=\\'\"+t+\"\\' src=\\'\"+i+\"\\' name=\\'\"+r+\"\\'></iframe>\"},!0),c=a.node;if(c.undelegate(),c.delegate(\".dui-dialog-close\",\"click\",function(){var o=$(\"body\");o.find(\"#login_msk\").hide(),o.find(\".account_pop\").remove()}),$(window).width()<478){var d=\"\";\"reg\"===o?d=HTTPS_DB+\"/accounts/register\"+referrer:\"login\"===o&&(d=HTTPS_DB+\"/accounts/login\"+referrer),window.location.href=d}else a.open();$(window).bind(\"message\",function(o){\"https://accounts.douban.com\"===o.originalEvent.origin&&(c.find(\"iframe\").css(\"height\",o.originalEvent.data),c.height(o.originalEvent.data),a.update())})}};Douban&&Douban.init_show_login&&(Douban.init_show_login=function(o){var e=$(o);e.click(function(){var o=e.data(\"ref\")||\"\";return account_pop.open(\"login\",o),!1})}),Do(function(){$(\"body\").delegate(\".pop_register\",\"click\",function(o){o.preventDefault();var e=$(this).data(\"ref\")||\"\";return account_pop.open(\"reg\",e),!1}),$(\"body\").delegate(\".pop_login\",\"click\",function(o){o.preventDefault();var e=$(this).data(\"ref\")||\"\";return account_pop.open(\"login\",e),!1})});\\n    </script>\\n\\n    \\n    \\n\\n\\n\\n\\n    \\n<script type=\"text/javascript\">\\n    (function (global) {\\n        var newNode = global.document.createElement(\\'script\\'),\\n            existingNode = global.document.getElementsByTagName(\\'script\\')[0],\\n            adSource = \\'//erebor.douban.com/\\',\\n            userId = \\'\\',\\n            browserId = \\'iPklD7sPIMc\\',\\n            criteria = \\'3:/top250\\',\\n            preview = \\'\\',\\n            debug = false,\\n            adSlots = [\\'dale_movie_top250_bottom_right\\'];\\n\\n        global.DoubanAdRequest = {src: adSource, uid: userId, bid: browserId, crtr: criteria, prv: preview, debug: debug};\\n        global.DoubanAdSlots = (global.DoubanAdSlots || []).concat(adSlots);\\n\\n        newNode.setAttribute(\\'type\\', \\'text/javascript\\');\\n        newNode.setAttribute(\\'src\\', \\'//img1.doubanio.com/NWt2ZHQ5bC9mL2FkanMvNmEyODIwODUxODI1ZmFhMDA5YzM3YzUzM2ZmOTJkZTk5NGUzODExYS9hZC5yZWxlYXNlLmpz\\');\\n        newNode.setAttribute(\\'async\\', true);\\n        existingNode.parentNode.insertBefore(newNode, existingNode);\\n    })(this);\\n</script>\\n\\n\\n\\n\\n\\n\\n\\n\\n\\n\\n\\n    \\n  \\n\\n\\n\\n\\n\\n\\n\\n\\n\\n<script type=\"text/javascript\">\\nvar _paq = _paq || [];\\n_paq.push([\\'trackPageView\\']);\\n_paq.push([\\'enableLinkTracking\\']);\\n(function() {\\n    var p=((\\'https:\\' == document.location.protocol) ? \\'https\\' : \\'http\\'), u=p+\\'://fundin.douban.com/\\';\\n    _paq.push([\\'setTrackerUrl\\', u+\\'piwik\\']);\\n    _paq.push([\\'setSiteId\\', \\'100001\\']);\\n    var d=document, g=d.createElement(\\'script\\'), s=d.getElementsByTagName(\\'script\\')[0];\\n    g.type=\\'text/javascript\\';\\n    g.defer=true;\\n    g.async=true;\\n    g.src=p+\\'://img3.doubanio.com/dae/fundin/piwik.js\\';\\n    s.parentNode.insertBefore(g,s);\\n})();\\n</script>\\n\\n<script type=\"text/javascript\">\\nvar setMethodWithNs = function(namespace) {\\n  var ns = namespace ? namespace + \\'.\\' : \\'\\'\\n    , fn = function(string) {\\n        if(!ns) {return string}\\n        return ns + string\\n      }\\n  return fn\\n}\\n\\nvar gaWithNamespace = function(fn, namespace) {\\n  var method = setMethodWithNs(namespace)\\n  fn.call(this, method)\\n}\\n\\nvar _gaq = _gaq || []\\n  , accounts = [\\n      { id: \\'UA-7019765-1\\', namespace: \\'douban\\' }\\n    , { id: \\'UA-7019765-19\\', namespace: \\'\\' }\\n    ]\\n  , gaInit = function(account) {\\n      gaWithNamespace(function(method) {\\n        gaInitFn.call(this, method, account)\\n      }, account.namespace)\\n    }\\n  , gaInitFn = function(method, account) {\\n      _gaq.push([method(\\'_setAccount\\'), account.id]);\\n      _gaq.push([method(\\'_setSampleRate\\'), \\'5\\']);\\n\\n      \\n  _gaq.push([method(\\'_addOrganic\\'), \\'google\\', \\'q\\'])\\n  _gaq.push([method(\\'_addOrganic\\'), \\'baidu\\', \\'wd\\'])\\n  _gaq.push([method(\\'_addOrganic\\'), \\'soso\\', \\'w\\'])\\n  _gaq.push([method(\\'_addOrganic\\'), \\'youdao\\', \\'q\\'])\\n  _gaq.push([method(\\'_addOrganic\\'), \\'so.360.cn\\', \\'q\\'])\\n  _gaq.push([method(\\'_addOrganic\\'), \\'sogou\\', \\'query\\'])\\n  if (account.namespace) {\\n    _gaq.push([method(\\'_addIgnoredOrganic\\'), \\'豆瓣\\'])\\n    _gaq.push([method(\\'_addIgnoredOrganic\\'), \\'douban\\'])\\n    _gaq.push([method(\\'_addIgnoredOrganic\\'), \\'豆瓣网\\'])\\n    _gaq.push([method(\\'_addIgnoredOrganic\\'), \\'www.douban.com\\'])\\n  }\\n\\n      if (account.namespace === \\'douban\\') {\\n        _gaq.push([method(\\'_setDomainName\\'), \\'.douban.com\\'])\\n      }\\n\\n        _gaq.push([method(\\'_setCustomVar\\'), 1, \\'responsive_view_mode\\', \\'desktop\\', 3])\\n\\n        _gaq.push([method(\\'_setCustomVar\\'), 2, \\'login_status\\', \\'0\\', 2]);\\n\\n      _gaq.push([method(\\'_trackPageview\\')])\\n    }\\n\\nfor(var i = 0, l = accounts.length; i < l; i++) {\\n  var account = accounts[i]\\n  gaInit(account)\\n}\\n\\n\\n;(function() {\\n    var ga = document.createElement(\\'script\\');\\n    ga.src = (\\'https:\\' == document.location.protocol ? \\'https://ssl\\' : \\'http://www\\') + \\'.google-analytics.com/ga.js\\';\\n    ga.setAttribute(\\'async\\', \\'true\\');\\n    document.documentElement.firstChild.appendChild(ga);\\n})()\\n</script>\\n\\n\\n\\n\\n\\n\\n\\n\\n      \\n\\n    <!-- dae-web-movie--default-754fdd47cf-p7mbp-->\\n\\n  <script>_SPLITTEST=\\'\\'</script>\\n</body>\\n\\n</html>\\n\\n\\n'"
      ]
     },
     "execution_count": 6,
     "metadata": {},
     "output_type": "execute_result"
    }
   ],
   "source": [
    "response.text"
   ]
  },
  {
   "cell_type": "code",
   "execution_count": 7,
   "metadata": {},
   "outputs": [
    {
     "data": {
      "text/plain": [
       "<Element html at 0x29dd668f548>"
      ]
     },
     "execution_count": 7,
     "metadata": {},
     "output_type": "execute_result"
    }
   ],
   "source": [
    "tree = etree.HTML(response.text)\n",
    "tree"
   ]
  },
  {
   "cell_type": "code",
   "execution_count": 8,
   "metadata": {},
   "outputs": [],
   "source": [
    "rank_num = tree.xpath('//div[@class=\"item\"]/div[1]/em/text()')\n",
    "titles = tree.xpath('//div[@class=\"item\"]/div[2]/div[1]/a/span[1]/text()')\n",
    "score = tree.xpath('//div[@class=\"item\"]/div[2]/div[2]/div/span[2]/text()')"
   ]
  },
  {
   "cell_type": "code",
   "execution_count": 9,
   "metadata": {},
   "outputs": [
    {
     "data": {
      "text/plain": [
       "['1',\n",
       " '2',\n",
       " '3',\n",
       " '4',\n",
       " '5',\n",
       " '6',\n",
       " '7',\n",
       " '8',\n",
       " '9',\n",
       " '10',\n",
       " '11',\n",
       " '12',\n",
       " '13',\n",
       " '14',\n",
       " '15',\n",
       " '16',\n",
       " '17',\n",
       " '18',\n",
       " '19',\n",
       " '20',\n",
       " '21',\n",
       " '22',\n",
       " '23',\n",
       " '24',\n",
       " '25']"
      ]
     },
     "execution_count": 9,
     "metadata": {},
     "output_type": "execute_result"
    }
   ],
   "source": [
    "rank_num"
   ]
  },
  {
   "cell_type": "code",
   "execution_count": 10,
   "metadata": {},
   "outputs": [
    {
     "data": {
      "text/plain": [
       "['肖申克的救赎',\n",
       " '霸王别姬',\n",
       " '阿甘正传',\n",
       " '这个杀手不太冷',\n",
       " '泰坦尼克号',\n",
       " '美丽人生',\n",
       " '千与千寻',\n",
       " '辛德勒的名单',\n",
       " '盗梦空间',\n",
       " '忠犬八公的故事',\n",
       " '星际穿越',\n",
       " '楚门的世界',\n",
       " '海上钢琴师',\n",
       " '三傻大闹宝莱坞',\n",
       " '机器人总动员',\n",
       " '放牛班的春天',\n",
       " '大话西游之大圣娶亲',\n",
       " '疯狂动物城',\n",
       " '无间道',\n",
       " '熔炉',\n",
       " '教父',\n",
       " '当幸福来敲门',\n",
       " '龙猫',\n",
       " '怦然心动',\n",
       " '控方证人']"
      ]
     },
     "execution_count": 10,
     "metadata": {},
     "output_type": "execute_result"
    }
   ],
   "source": [
    "titles"
   ]
  },
  {
   "cell_type": "code",
   "execution_count": 11,
   "metadata": {},
   "outputs": [],
   "source": [
    "movie_info = list(zip(rank_num, titles, score))"
   ]
  },
  {
   "cell_type": "code",
   "execution_count": 12,
   "metadata": {},
   "outputs": [
    {
     "data": {
      "text/plain": [
       "[('1', '肖申克的救赎', '9.7'),\n",
       " ('2', '霸王别姬', '9.6'),\n",
       " ('3', '阿甘正传', '9.5'),\n",
       " ('4', '这个杀手不太冷', '9.4'),\n",
       " ('5', '泰坦尼克号', '9.4'),\n",
       " ('6', '美丽人生', '9.5'),\n",
       " ('7', '千与千寻', '9.4'),\n",
       " ('8', '辛德勒的名单', '9.5'),\n",
       " ('9', '盗梦空间', '9.3'),\n",
       " ('10', '忠犬八公的故事', '9.4'),\n",
       " ('11', '星际穿越', '9.3'),\n",
       " ('12', '楚门的世界', '9.3'),\n",
       " ('13', '海上钢琴师', '9.3'),\n",
       " ('14', '三傻大闹宝莱坞', '9.2'),\n",
       " ('15', '机器人总动员', '9.3'),\n",
       " ('16', '放牛班的春天', '9.3'),\n",
       " ('17', '大话西游之大圣娶亲', '9.2'),\n",
       " ('18', '疯狂动物城', '9.2'),\n",
       " ('19', '无间道', '9.2'),\n",
       " ('20', '熔炉', '9.3'),\n",
       " ('21', '教父', '9.3'),\n",
       " ('22', '当幸福来敲门', '9.1'),\n",
       " ('23', '龙猫', '9.2'),\n",
       " ('24', '怦然心动', '9.1'),\n",
       " ('25', '控方证人', '9.6')]"
      ]
     },
     "execution_count": 12,
     "metadata": {},
     "output_type": "execute_result"
    }
   ],
   "source": [
    "movie_info"
   ]
  },
  {
   "cell_type": "code",
   "execution_count": 14,
   "metadata": {},
   "outputs": [],
   "source": [
    "# HTTP请求类型\n",
    "# get类型\n",
    "r = requests.get('https://github.com/timeline.json')"
   ]
  },
  {
   "cell_type": "code",
   "execution_count": 15,
   "metadata": {},
   "outputs": [],
   "source": [
    "# post类型\n",
    "r = requests.post(\"http://m.ctrip.com/post\")\n",
    "# put类型\n",
    "r = requests.put(\"http://m.ctrip.com/put\")\n",
    "# delete类型\n",
    "r = requests.delete(\"http://m.ctrip.com/delete\")\n",
    "# head类型\n",
    "r = requests.head(\"http://m.ctrip.com/head\")\n",
    "# options类型\n",
    "r = requests.options(\"http://m.ctrip.com/get\")"
   ]
  },
  {
   "cell_type": "code",
   "execution_count": 16,
   "metadata": {},
   "outputs": [
    {
     "name": "stdout",
     "output_type": "stream",
     "text": [
      "b'\\n    <!doctype html>\\n<html>\\n<head>\\n<meta charset=\"utf-8\" />\\n<meta http-equiv=\"X-UA-Compatible\" content=\"IE=edge\"/>\\n<meta name=\"robots\" content=\"noindex, nofollow\" />\\n<meta content=\"width=device-width,initial-scale=1.0,maximum-scale=1.0,user-scalable=no,minimal-ui\" name=\"viewport\" />\\n<title>\\xe6\\x90\\xba\\xe7\\xa8\\x8b\\xe6\\x97\\x85\\xe8\\xa1\\x8c\\xe7\\xbd\\x91</title>\\n<style type=\"text/css\">\\nhtml,body,div,dl,dt,dd,ul,ol,li,h1,h2,h3,h4,h5,h6,pre,code,form,fieldset,legend,input,textarea,p,blockquote,th,td,em,button{margin:0;padding:0;}\\nbody{font-size:12px;font-family:Simsun,sans-serif;color:#333;}\\nimg,fieldset{border:0 none}\\ninput,textarea{font-size:12px;}\\ntextarea{resize:none;}\\ntable{border-collapse:collapse;border-spacing:0;}\\na{color:#003d7e;text-decoration:none;}\\na:hover{text-decoration:underline;}\\nh1,h2,h3,h4,h5,h6{font-family:\"Times New Roman\",Simsun;}\\nul,ol,li{list-style:none outside none;}\\ndfn{font-style:normal;}\\n\\n.content,.errorinfo,#footer{width:800px;}\\n.logo,.tower,.cruise{background:url(//pic.c-ctrip.com/common/un_pic.png) no-repeat;}\\n.wrap{background:#1158e7 url(//pic.c-ctrip.com/common/404_bg.jpg) no-repeat center bottom;width:100%;overflow:hidden;}\\n.content{position:relative;z-index:1;height:480px;margin:0 auto;padding-top:100px;}\\n.logo{ position: relative;z-index:5; width:144px;height:54px;margin:0 auto;overflow:hidden;text-indent:-500px;background-position:0 0;}\\n.errorinfo{color:#fff;display:block;font-family:\"microsoft yahei\",\"simhei\",sans-serif;font-size:24px;font-weight:normal;text-align:center;margin:30px auto;padding:0;}\\na.goback{display:block;position: relative;z-index: 4; width:112px;margin:20px auto;padding:8px 0;color:#fff;font-family:\"microsoft yahei\",\"simhei\",sans-serif;font-size:16px;text-align:center;text-decoration:none;background-color:#0f4dc5;}\\na.goback:hover{background-color:#3f92f0;}\\n\\n.tower{background-position:0 -127px;position:absolute;z-index:2;top:140px;left:20px;width:116px;height:264px;}\\n.towerlight{position:absolute;z-index:1;left:52px;top:166px;width:52px;height:52px;background-color:#fefa90;box-shadow:0 0 50px rgba(255,248,74,1);-webkit-animation:3s linear 0s none infinite light;-moz-animation:3s linear 0s none infinite light;animation:3s linear 0s none infinite light;}\\n@-webkit-keyframes light{\\n\\t0%{box-shadow:0 0 50px rgba(255,254,165,1);}\\n\\t50%{box-shadow:0 0 10px rgba(255,248,74,1);}\\n\\t100%{box-shadow:0 0 50px rgba(255,254,165,1);}\\n}\\n@-moz-keyframes light{\\n\\t0%{box-shadow:0 0 50px rgba(255,254,165,1);}\\n\\t50%{box-shadow:0 0 10px rgba(255,248,74,1);}\\n\\t100%{box-shadow:0 0 50px rgba(255,254,165,1);}\\n}\\n@keyframes light{\\n\\t0%{box-shadow:0 0 50px rgba(255,254,165,1);}\\n\\t50%{box-shadow:0 0 10px rgba(255,248,74,1);}\\n\\t100%{box-shadow:0 0 50px rgba(255,254,165,1);}\\n}\\n.beam{position:absolute;z-index:3;left:-232px;top:75px;width:973px;height:198px;background:url(//pic.c-ctrip.com/common/beam.png) no-repeat;-webkit-transform:rotate(15deg);transform:rotate(15deg);-webkit-transform-origin:308px 115px;transform-origin:308px 115px;-webkit-animation:10s linear 0s none infinite beam;-moz-animation:10s linear 0s none infinite beam;animation:10s linear 0s none infinite beam;}\\n@-webkit-keyframes beam{\\n\\t0%{ -webkit-transform:rotate(15deg);}\\n\\t50%{ -webkit-transform:rotate(65deg);}\\n\\t100%{ -webkit-transform:rotate(15deg);}\\n}\\n@keyframes beam{\\n\\t0%{transform:rotate(15deg);}\\n\\t50%{transform:rotate(65deg);}\\n\\t100%{transform:rotate(15deg);}\\n}\\n.wave1{position:relative;z-index:3;width:100%;margin-top:-220px;color:#999;background:url(//pic.c-ctrip.com/common/bl.png) repeat-x 0 0;-webkit-animation:8s linear 0s none infinite tweenxx;-moz-animation:8s linear 0s none infinite tweenxx;animation:8s linear 0s none infinite tweenxx;}\\n.wave{height:220px;background:url(//pic.c-ctrip.com/common/bl.png) repeat-x 330px 0;-webkit-animation:10s linear 0s none infinite tweenx;-moz-animation:10s linear 0s none infinite tweenx;animation:10s linear 0s none infinite tweenx;}\\n@-webkit-keyframes tweenx{\\n\\t0%{background-position:0 0;}\\n\\t100%{background-position:1600px 0;}\\n}\\n@-moz-keyframes tweenx{\\n\\t0%{background-position:0 0;}\\n\\t100%{background-position:1600px 0;}\\n}\\n@keyframes tweenx{\\n\\t0%{background-position:0 0;}\\n\\t100%{background-position:1600px 0;}\\n}\\n@-webkit-keyframes tweenxx{\\n\\t0%{background-position:0 0;}\\n\\t100%{background-position:-1600px 0;}\\n}\\n@-moz-keyframes tweenxx{\\n\\t0%{background-position:0 0;}\\n\\t100%{background-position:-1600px 0;}\\n}\\n@keyframes tweenxx{\\n\\t0%{background-position:0 0;}\\n\\t100%{background-position:-1600px 0;}\\n}\\n/*-----footer-----*/\\n#footer{margin:0 auto;\\n\\ttext-align:center;color:#0053aa;font-family:arial;line-height:1.6;padding:8px 0 0 0;}\\n#footer a{color:#0053aa;}\\n.copyright{color:#333333;}\\n/*-----media-----*/\\n@media screen and (max-width:640px) {\\n\\tbody{min-width:320px;}\\n\\t.content,.errorinfo,#footer{width:320px;}\\n\\t.content { height: 500px;padding-top: 20px;}\\n\\t.errorinfo{font-size: 18px;}\\n\\t.miscbox{position: relative;z-index: -1;height: 264px;width: 116px;margin: 0 auto;}\\n\\t.tower{left: 0;top: 0; }\\n\\t.towerlight {left: 32px;top: 30px;}\\n\\t.beam {left: -255px;top: -62px;}\\n\\t.wave1 {margin-top: -75px;}\\n}\\n\\n</style>\\n</head>\\n<body>\\n\\t<div class=\"wrap\">\\n\\t\\t<div class=\"content\">\\n\\t\\t\\t<a href=\"http://www.ctrip.com/\"><h1 class=\"logo\">Ctrip</h1></a>\\n\\t\\t\\t<div class=\"errorinfo\">\\n\\t\\t\\t\\t<p>\\xe4\\xba\\xba\\xe5\\x9c\\xa8\\xe6\\x97\\x85\\xe9\\x80\\x94\\xef\\xbc\\x8c\\xe9\\x9a\\xbe\\xe5\\x85\\x8d\\xe8\\xbf\\xb7\\xe8\\xb7\\xaf\\xef\\xbc\\x8c\\xe5\\xa5\\xbd\\xe5\\x9c\\xa8\\xe4\\xbd\\xa0\\xe6\\x9c\\x89\\xe6\\x90\\xba\\xe7\\xa8\\x8b\\xe3\\x80\\x82</p>\\n\\t\\t\\t\\t<a class=\"goback\" href=\"http://www.ctrip.com/\">\\xe8\\xbf\\x94\\xe5\\x9b\\x9e\\xe9\\xa6\\x96\\xe9\\xa1\\xb5</a>\\n\\t\\t\\t</div>\\n\\t\\t\\t<div class=\"miscbox\">\\n\\t\\t\\t\\t<div class=\"tower\"></div>\\n\\t\\t\\t\\t<div class=\"towerlight\"></div>\\n\\t\\t\\t\\t<div class=\"beam\"></div>\\n\\t\\t\\t</div>\\n\\t\\t</div>\\n\\t\\t<div class=\"wave1\"><div class=\"wave\"></div></div>\\n\\t</div>\\n\\t<div id=\"footer\">\\n\\t\\t<p class=\"copyright\">\\n\\t\\t\\t<a href=\"http://pages.ctrip.com/public/copyright.htm\">Copyright&copy;</a>1999-<script>document.write(new Date().getFullYear())</script>,\\n\\t\\t\\t<a href=\"http://pages.ctrip.com/public/ctripab/abctrip.htm\">ctrip.com</a>. all rights reserved.\\n\\t\\t</p>\\n\\t</div>\\n\\t<input type=\"hidden\" id=\"page_id\" value=\"600001375\" />\\n\\n\\n\\t<script type=\"text/javascript\">\\n\\t\\t;(function(w,d,s,l,a,r){l=(w.location||d.location).hostname;function c(a){if(!(w.$_bf&&w.$_bf.loaded||w.$LAB||w.CtripJsLoader)){var b=new Date,c=!1,u=\"?v=\"+b.getFullYear()+b.getMonth()+\"_\"+b.getDate(),b=d.createElement(s);b.type=\"text/javascript\",b.charset=\"utf-8\",b.async=!0,b.src=\"//webresource.c-ctrip.com/code/ubt/\"+a+\".min.js\"+u,c=d.getElementsByTagName(s)[0],c.parentNode.insertBefore(b,c)}}w.__bfi=[],w.__bfi.push([\"_config\",\"rms\",!1]),w.__bfi.push([\"_config\",\"markting\",!1]),a=navigator.userAgent,r=/(iphone|ios|android|mini|mobile|mobi|Nokia|Symbian|iPod|iPad|Windows\\\\s+Phone|MQQBrowser|wp7|wp8|UCBrowser7|UCWEB|360\\\\s+Aphone\\\\s+Browser)/i,(l===\\'m.ctrip.com\\'||r.test(a))?c(\\'_mubt\\'):c(\\'_bfa\\')})(window,document,\\'script\\');\\n\\t</script>\\n\\n</body>\\n</html>\\n    '\n",
      "\n",
      "    <!doctype html>\n",
      "<html>\n",
      "<head>\n",
      "<meta charset=\"utf-8\" />\n",
      "<meta http-equiv=\"X-UA-Compatible\" content=\"IE=edge\"/>\n",
      "<meta name=\"robots\" content=\"noindex, nofollow\" />\n",
      "<meta content=\"width=device-width,initial-scale=1.0,maximum-scale=1.0,user-scalable=no,minimal-ui\" name=\"viewport\" />\n",
      "<title>携程旅行网</title>\n",
      "<style type=\"text/css\">\n",
      "html,body,div,dl,dt,dd,ul,ol,li,h1,h2,h3,h4,h5,h6,pre,code,form,fieldset,legend,input,textarea,p,blockquote,th,td,em,button{margin:0;padding:0;}\n",
      "body{font-size:12px;font-family:Simsun,sans-serif;color:#333;}\n",
      "img,fieldset{border:0 none}\n",
      "input,textarea{font-size:12px;}\n",
      "textarea{resize:none;}\n",
      "table{border-collapse:collapse;border-spacing:0;}\n",
      "a{color:#003d7e;text-decoration:none;}\n",
      "a:hover{text-decoration:underline;}\n",
      "h1,h2,h3,h4,h5,h6{font-family:\"Times New Roman\",Simsun;}\n",
      "ul,ol,li{list-style:none outside none;}\n",
      "dfn{font-style:normal;}\n",
      "\n",
      ".content,.errorinfo,#footer{width:800px;}\n",
      ".logo,.tower,.cruise{background:url(//pic.c-ctrip.com/common/un_pic.png) no-repeat;}\n",
      ".wrap{background:#1158e7 url(//pic.c-ctrip.com/common/404_bg.jpg) no-repeat center bottom;width:100%;overflow:hidden;}\n",
      ".content{position:relative;z-index:1;height:480px;margin:0 auto;padding-top:100px;}\n",
      ".logo{ position: relative;z-index:5; width:144px;height:54px;margin:0 auto;overflow:hidden;text-indent:-500px;background-position:0 0;}\n",
      ".errorinfo{color:#fff;display:block;font-family:\"microsoft yahei\",\"simhei\",sans-serif;font-size:24px;font-weight:normal;text-align:center;margin:30px auto;padding:0;}\n",
      "a.goback{display:block;position: relative;z-index: 4; width:112px;margin:20px auto;padding:8px 0;color:#fff;font-family:\"microsoft yahei\",\"simhei\",sans-serif;font-size:16px;text-align:center;text-decoration:none;background-color:#0f4dc5;}\n",
      "a.goback:hover{background-color:#3f92f0;}\n",
      "\n",
      ".tower{background-position:0 -127px;position:absolute;z-index:2;top:140px;left:20px;width:116px;height:264px;}\n",
      ".towerlight{position:absolute;z-index:1;left:52px;top:166px;width:52px;height:52px;background-color:#fefa90;box-shadow:0 0 50px rgba(255,248,74,1);-webkit-animation:3s linear 0s none infinite light;-moz-animation:3s linear 0s none infinite light;animation:3s linear 0s none infinite light;}\n",
      "@-webkit-keyframes light{\n",
      "\t0%{box-shadow:0 0 50px rgba(255,254,165,1);}\n",
      "\t50%{box-shadow:0 0 10px rgba(255,248,74,1);}\n",
      "\t100%{box-shadow:0 0 50px rgba(255,254,165,1);}\n",
      "}\n",
      "@-moz-keyframes light{\n",
      "\t0%{box-shadow:0 0 50px rgba(255,254,165,1);}\n",
      "\t50%{box-shadow:0 0 10px rgba(255,248,74,1);}\n",
      "\t100%{box-shadow:0 0 50px rgba(255,254,165,1);}\n",
      "}\n",
      "@keyframes light{\n",
      "\t0%{box-shadow:0 0 50px rgba(255,254,165,1);}\n",
      "\t50%{box-shadow:0 0 10px rgba(255,248,74,1);}\n",
      "\t100%{box-shadow:0 0 50px rgba(255,254,165,1);}\n",
      "}\n",
      ".beam{position:absolute;z-index:3;left:-232px;top:75px;width:973px;height:198px;background:url(//pic.c-ctrip.com/common/beam.png) no-repeat;-webkit-transform:rotate(15deg);transform:rotate(15deg);-webkit-transform-origin:308px 115px;transform-origin:308px 115px;-webkit-animation:10s linear 0s none infinite beam;-moz-animation:10s linear 0s none infinite beam;animation:10s linear 0s none infinite beam;}\n",
      "@-webkit-keyframes beam{\n",
      "\t0%{ -webkit-transform:rotate(15deg);}\n",
      "\t50%{ -webkit-transform:rotate(65deg);}\n",
      "\t100%{ -webkit-transform:rotate(15deg);}\n",
      "}\n",
      "@keyframes beam{\n",
      "\t0%{transform:rotate(15deg);}\n",
      "\t50%{transform:rotate(65deg);}\n",
      "\t100%{transform:rotate(15deg);}\n",
      "}\n",
      ".wave1{position:relative;z-index:3;width:100%;margin-top:-220px;color:#999;background:url(//pic.c-ctrip.com/common/bl.png) repeat-x 0 0;-webkit-animation:8s linear 0s none infinite tweenxx;-moz-animation:8s linear 0s none infinite tweenxx;animation:8s linear 0s none infinite tweenxx;}\n",
      ".wave{height:220px;background:url(//pic.c-ctrip.com/common/bl.png) repeat-x 330px 0;-webkit-animation:10s linear 0s none infinite tweenx;-moz-animation:10s linear 0s none infinite tweenx;animation:10s linear 0s none infinite tweenx;}\n",
      "@-webkit-keyframes tweenx{\n",
      "\t0%{background-position:0 0;}\n",
      "\t100%{background-position:1600px 0;}\n",
      "}\n",
      "@-moz-keyframes tweenx{\n",
      "\t0%{background-position:0 0;}\n",
      "\t100%{background-position:1600px 0;}\n",
      "}\n",
      "@keyframes tweenx{\n",
      "\t0%{background-position:0 0;}\n",
      "\t100%{background-position:1600px 0;}\n",
      "}\n",
      "@-webkit-keyframes tweenxx{\n",
      "\t0%{background-position:0 0;}\n",
      "\t100%{background-position:-1600px 0;}\n",
      "}\n",
      "@-moz-keyframes tweenxx{\n",
      "\t0%{background-position:0 0;}\n",
      "\t100%{background-position:-1600px 0;}\n",
      "}\n",
      "@keyframes tweenxx{\n",
      "\t0%{background-position:0 0;}\n",
      "\t100%{background-position:-1600px 0;}\n",
      "}\n",
      "/*-----footer-----*/\n",
      "#footer{margin:0 auto;\n",
      "\ttext-align:center;color:#0053aa;font-family:arial;line-height:1.6;padding:8px 0 0 0;}\n",
      "#footer a{color:#0053aa;}\n",
      ".copyright{color:#333333;}\n",
      "/*-----media-----*/\n",
      "@media screen and (max-width:640px) {\n",
      "\tbody{min-width:320px;}\n",
      "\t.content,.errorinfo,#footer{width:320px;}\n",
      "\t.content { height: 500px;padding-top: 20px;}\n",
      "\t.errorinfo{font-size: 18px;}\n",
      "\t.miscbox{position: relative;z-index: -1;height: 264px;width: 116px;margin: 0 auto;}\n",
      "\t.tower{left: 0;top: 0; }\n",
      "\t.towerlight {left: 32px;top: 30px;}\n",
      "\t.beam {left: -255px;top: -62px;}\n",
      "\t.wave1 {margin-top: -75px;}\n",
      "}\n",
      "\n",
      "</style>\n",
      "</head>\n",
      "<body>\n",
      "\t<div class=\"wrap\">\n",
      "\t\t<div class=\"content\">\n",
      "\t\t\t<a href=\"http://www.ctrip.com/\"><h1 class=\"logo\">Ctrip</h1></a>\n",
      "\t\t\t<div class=\"errorinfo\">\n",
      "\t\t\t\t<p>人在旅途，难免迷路，好在你有携程。</p>\n",
      "\t\t\t\t<a class=\"goback\" href=\"http://www.ctrip.com/\">返回首页</a>\n",
      "\t\t\t</div>\n",
      "\t\t\t<div class=\"miscbox\">\n",
      "\t\t\t\t<div class=\"tower\"></div>\n",
      "\t\t\t\t<div class=\"towerlight\"></div>\n",
      "\t\t\t\t<div class=\"beam\"></div>\n",
      "\t\t\t</div>\n",
      "\t\t</div>\n",
      "\t\t<div class=\"wave1\"><div class=\"wave\"></div></div>\n",
      "\t</div>\n",
      "\t<div id=\"footer\">\n",
      "\t\t<p class=\"copyright\">\n",
      "\t\t\t<a href=\"http://pages.ctrip.com/public/copyright.htm\">Copyright&copy;</a>1999-<script>document.write(new Date().getFullYear())</script>,\n",
      "\t\t\t<a href=\"http://pages.ctrip.com/public/ctripab/abctrip.htm\">ctrip.com</a>. all rights reserved.\n",
      "\t\t</p>\n",
      "\t</div>\n",
      "\t<input type=\"hidden\" id=\"page_id\" value=\"600001375\" />\n",
      "\n",
      "\n",
      "\t<script type=\"text/javascript\">\n",
      "\t\t;(function(w,d,s,l,a,r){l=(w.location||d.location).hostname;function c(a){if(!(w.$_bf&&w.$_bf.loaded||w.$LAB||w.CtripJsLoader)){var b=new Date,c=!1,u=\"?v=\"+b.getFullYear()+b.getMonth()+\"_\"+b.getDate(),b=d.createElement(s);b.type=\"text/javascript\",b.charset=\"utf-8\",b.async=!0,b.src=\"//webresource.c-ctrip.com/code/ubt/\"+a+\".min.js\"+u,c=d.getElementsByTagName(s)[0],c.parentNode.insertBefore(b,c)}}w.__bfi=[],w.__bfi.push([\"_config\",\"rms\",!1]),w.__bfi.push([\"_config\",\"markting\",!1]),a=navigator.userAgent,r=/(iphone|ios|android|mini|mobile|mobi|Nokia|Symbian|iPod|iPad|Windows\\s+Phone|MQQBrowser|wp7|wp8|UCBrowser7|UCWEB|360\\s+Aphone\\s+Browser)/i,(l==='m.ctrip.com'||r.test(a))?c('_mubt'):c('_bfa')})(window,document,'script');\n",
      "\t</script>\n",
      "\n",
      "</body>\n",
      "</html>\n",
      "    \n",
      "404\n"
     ]
    }
   ],
   "source": [
    "print(r.content)  # 以字节的方式去显示，中文显示为字符\n",
    "print(r.text)  # 以文本的方式去显示\n",
    "print(r.status_code)  # 状态码"
   ]
  },
  {
   "cell_type": "code",
   "execution_count": 17,
   "metadata": {},
   "outputs": [
    {
     "name": "stdout",
     "output_type": "stream",
     "text": [
      "https://m.ctrip.com/webapp/tourvisa/visa_list?keyword=%E9%A6%99%E6%B8%AF&salecityid=2\n"
     ]
    }
   ],
   "source": [
    "# URL传递参数\n",
    "payload = {'keyword': '香港', 'salecityid': '2'}\n",
    "r = requests.get(\"http://m.ctrip.com/webapp/tourvisa/visa_list\", params=payload)\n",
    "print(r.url)  # 示例为http://m.ctrip.com/webapp/tourvisa/visa_list?salecityid=2&keyword=香港\n"
   ]
  },
  {
   "cell_type": "code",
   "execution_count": 18,
   "metadata": {},
   "outputs": [
    {
     "name": "stdout",
     "output_type": "stream",
     "text": [
      "utf-8\n"
     ]
    }
   ],
   "source": [
    "# 获取/修改网页编码\n",
    "r = requests.get('https://github.com/timeline.json')\n",
    "print(r.encoding)"
   ]
  },
  {
   "cell_type": "code",
   "execution_count": 19,
   "metadata": {},
   "outputs": [
    {
     "name": "stdout",
     "output_type": "stream",
     "text": [
      "{'message': 'Hello there, wayfaring stranger. If you’re reading this then you probably didn’t see our blog post a couple of years back announcing that this API would go away: http://git.io/17AROg Fear not, you should be able to get what you need from the shiny new Events API instead.', 'documentation_url': 'https://docs.github.com/v3/activity/events/#list-public-events'}\n"
     ]
    }
   ],
   "source": [
    "# json处理\n",
    "r = requests.get('https://github.com/timeline.json')\n",
    "print(r.json())  # 需要先import json"
   ]
  },
  {
   "cell_type": "code",
   "execution_count": 20,
   "metadata": {},
   "outputs": [
    {
     "name": "stdout",
     "output_type": "stream",
     "text": [
      "{'User-Agent': 'Mozilla/5.0 (Linux; Android 4.2.1; en-us; Nexus 4 Build/JOP40D) AppleWebKit/535.19 (KHTML, like Gecko) Chrome/18.0.1025.166 Mobile Safari/535.19', 'Accept-Encoding': 'gzip, deflate', 'Accept': '*/*', 'Connection': 'keep-alive', 'Cookie': 'GUID=09031127213261976977'}\n"
     ]
    }
   ],
   "source": [
    "url = 'http://m.ctrip.com'\n",
    "headers = {\n",
    "    'User-Agent': 'Mozilla/5.0 (Linux; Android 4.2.1; en-us; Nexus 4 Build/JOP40D) AppleWebKit/535.19 (KHTML, like Gecko) Chrome/18.0.1025.166 Mobile Safari/535.19'}\n",
    "r = requests.post(url, headers=headers)\n",
    "print(r.request.headers)"
   ]
  },
  {
   "cell_type": "code",
   "execution_count": 21,
   "metadata": {},
   "outputs": [],
   "source": [
    "# 复杂post请求\n",
    "url = 'http://m.ctrip.com'\n",
    "payload = {'some': 'data'}\n",
    "r = requests.post(url, data=json.dumps(payload))  # 如果传递的payload是string而不是dict，需要先调用dumps方法格式化一下"
   ]
  },
  {
   "cell_type": "code",
   "execution_count": 22,
   "metadata": {},
   "outputs": [
    {
     "ename": "FileNotFoundError",
     "evalue": "[Errno 2] No such file or directory: 'report.xls'",
     "output_type": "error",
     "traceback": [
      "\u001b[1;31m---------------------------------------------------------------------------\u001b[0m",
      "\u001b[1;31mFileNotFoundError\u001b[0m                         Traceback (most recent call last)",
      "\u001b[1;32m<ipython-input-22-bf873bad86e2>\u001b[0m in \u001b[0;36m<module>\u001b[1;34m\u001b[0m\n\u001b[0;32m      1\u001b[0m \u001b[1;31m# post多部分编码文件\u001b[0m\u001b[1;33m\u001b[0m\u001b[1;33m\u001b[0m\u001b[1;33m\u001b[0m\u001b[0m\n\u001b[0;32m      2\u001b[0m \u001b[0murl\u001b[0m \u001b[1;33m=\u001b[0m \u001b[1;34m'http://m.ctrip.com'\u001b[0m\u001b[1;33m\u001b[0m\u001b[1;33m\u001b[0m\u001b[0m\n\u001b[1;32m----> 3\u001b[1;33m \u001b[0mfiles\u001b[0m \u001b[1;33m=\u001b[0m \u001b[1;33m{\u001b[0m\u001b[1;34m'file'\u001b[0m\u001b[1;33m:\u001b[0m \u001b[0mopen\u001b[0m\u001b[1;33m(\u001b[0m\u001b[1;34m'report.xls'\u001b[0m\u001b[1;33m,\u001b[0m \u001b[1;34m'rb'\u001b[0m\u001b[1;33m)\u001b[0m\u001b[1;33m}\u001b[0m\u001b[1;33m\u001b[0m\u001b[1;33m\u001b[0m\u001b[0m\n\u001b[0m\u001b[0;32m      4\u001b[0m \u001b[0mr\u001b[0m \u001b[1;33m=\u001b[0m \u001b[0mrequests\u001b[0m\u001b[1;33m.\u001b[0m\u001b[0mpost\u001b[0m\u001b[1;33m(\u001b[0m\u001b[0murl\u001b[0m\u001b[1;33m,\u001b[0m \u001b[0mfiles\u001b[0m\u001b[1;33m=\u001b[0m\u001b[0mfiles\u001b[0m\u001b[1;33m)\u001b[0m\u001b[1;33m\u001b[0m\u001b[1;33m\u001b[0m\u001b[0m\n",
      "\u001b[1;31mFileNotFoundError\u001b[0m: [Errno 2] No such file or directory: 'report.xls'"
     ]
    }
   ],
   "source": [
    "# post多部分编码文件\n",
    "url = 'http://m.ctrip.com'\n",
    "files = {'file': open('report.xls', 'rb')}\n",
    "r = requests.post(url, files=files)"
   ]
  },
  {
   "cell_type": "code",
   "execution_count": null,
   "metadata": {},
   "outputs": [],
   "source": [
    "# 响应状态码\n",
    "r = requests.get('http://m.ctrip.com')\n",
    "print(r.status_code)\n",
    "\n",
    "# 响应头\n",
    "r = requests.get('http://m.ctrip.com')\n",
    "print(r.headers)\n",
    "print(r.headers['Content-Type'])\n",
    "print(r.headers.get('content-type'))  # 访问响应头部分内容的两种方式\n",
    "\n",
    "# Cookies\n",
    "url = 'http://example.com/some/cookie/setting/url'\n",
    "r = requests.get(url)\n",
    "r.cookies['example_cookie_name']  # 读取cookies\n",
    "\n",
    "url = 'http://m.ctrip.com/cookies'\n",
    "cookies = dict(cookies_are='working')\n",
    "r = requests.get(url, cookies=cookies)  # 发送cookies\n",
    "\n",
    "# 设置超时时间\n",
    "r = requests.get('http://m.ctrip.com', timeout=0.001)\n",
    "\n",
    "# 设置访问代理\n",
    "proxies = {\n",
    "    \"http\": \"http://10.10.1.10:3128\",\n",
    "    \"https\": \"http://10.10.1.100:4444\",\n",
    "}\n",
    "r = requests.get('http://m.ctrip.com', proxies=proxies)\n",
    "\n",
    "# 如果代理需要用户名和密码，则需要这样：\n",
    "proxies = {\n",
    "   "
   ]
  }
 ],
 "metadata": {
  "kernelspec": {
   "display_name": "Python 3",
   "language": "python",
   "name": "python3"
  },
  "language_info": {
   "codemirror_mode": {
    "name": "ipython",
    "version": 3
   },
   "file_extension": ".py",
   "mimetype": "text/x-python",
   "name": "python",
   "nbconvert_exporter": "python",
   "pygments_lexer": "ipython3",
   "version": "3.7.4"
  }
 },
 "nbformat": 4,
 "nbformat_minor": 4
}
