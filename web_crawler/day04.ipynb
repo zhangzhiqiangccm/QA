{
 "cells": [
  {
   "cell_type": "code",
   "execution_count": 1,
   "metadata": {},
   "outputs": [],
   "source": [
    "import requests\n",
    "from lxml import etree"
   ]
  },
  {
   "cell_type": "code",
   "execution_count": 2,
   "metadata": {},
   "outputs": [],
   "source": [
    "# 主页url\n",
    "index_url = 'https://www.doutub.com/'\n",
    "\n",
    "headers = {\n",
    "    'User-Agent': 'Mozilla/5.0 (Windows NT 10.0; Win64; x64) AppleWebKit/537.36 (KHTML, like Gecko) Chrome/87.0.4280.141 Safari/537.36',\n",
    "}"
   ]
  },
  {
   "cell_type": "code",
   "execution_count": 3,
   "metadata": {},
   "outputs": [],
   "source": [
    "response = requests.get(url=index_url, headers=headers)\n",
    "tree = etree.HTML(response.text)"
   ]
  },
  {
   "cell_type": "code",
   "execution_count": 6,
   "metadata": {},
   "outputs": [],
   "source": [
    "# 获取图片名称\n",
    "pic_name = tree.xpath(\n",
    "    '//*[@id=\"__layout\"]/div/div/div[2]/div[2]/div[2]/div/div[1]/a/span/text()')[0]"
   ]
  },
  {
   "cell_type": "code",
   "execution_count": 7,
   "metadata": {},
   "outputs": [],
   "source": [
    "# 获取图片链接\n",
    "pic_link = tree.xpath('//*[@id=\"__layout\"]/div/div/div[2]/div[2]/div[2]/div/div[1]/a/img/@src')[0]\n",
    "pic_type = pic_link[-3:]"
   ]
  },
  {
   "cell_type": "code",
   "execution_count": 10,
   "metadata": {},
   "outputs": [
    {
     "name": "stdout",
     "output_type": "stream",
     "text": [
      "答应我别当舔狗,下载完成！\n"
     ]
    }
   ],
   "source": [
    "r = requests.get(url=pic_link, headers=headers)\n",
    "pic_data = r.content\n",
    "with open(f'./{pic_name}.{pic_type}', 'wb')as f:\n",
    "    f.write(pic_data)\n",
    "print(f'{pic_name},下载完成！')"
   ]
  },
  {
   "cell_type": "code",
   "execution_count": null,
   "metadata": {},
   "outputs": [],
   "source": []
  },
  {
   "cell_type": "code",
   "execution_count": null,
   "metadata": {},
   "outputs": [],
   "source": []
  }
 ],
 "metadata": {
  "kernelspec": {
   "display_name": "Python 3",
   "language": "python",
   "name": "python3"
  },
  "language_info": {
   "codemirror_mode": {
    "name": "ipython",
    "version": 3
   },
   "file_extension": ".py",
   "mimetype": "text/x-python",
   "name": "python",
   "nbconvert_exporter": "python",
   "pygments_lexer": "ipython3",
   "version": "3.7.4"
  }
 },
 "nbformat": 4,
 "nbformat_minor": 4
}
