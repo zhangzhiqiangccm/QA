{
 "cells": [
  {
   "cell_type": "code",
   "execution_count": 1,
   "metadata": {},
   "outputs": [
    {
     "data": {
      "text/plain": [
       "'\\n登录过程：\\n1. 先实例化一个session； \\n2. 拿到验证码（手动打码，肉眼识别）\\n3. 建立一个表单（里面放入账号、密码、验证码）\\n4. 向网站服务器发起post请求。\\n5. 获得登录后的页面\\n'"
      ]
     },
     "execution_count": 1,
     "metadata": {},
     "output_type": "execute_result"
    }
   ],
   "source": [
    "import requests\n",
    "\n",
    "\n",
    "'''\n",
    "登录过程：\n",
    "1. 先实例化一个session； \n",
    "2. 拿到验证码（手动打码，肉眼识别）\n",
    "3. 建立一个表单（里面放入账号、密码、验证码）\n",
    "4. 向网站服务器发起post请求。\n",
    "5. 获得登录后的页面\n",
    "'''"
   ]
  },
  {
   "cell_type": "code",
   "execution_count": 2,
   "metadata": {},
   "outputs": [],
   "source": [
    "# 实例化一个session网页会话\n",
    "s = requests.Session()\n",
    "\n",
    "# 先获得验证码图片\n",
    "headers = {\n",
    "    'user-agent': 'Mozilla/5.0 (Windows NT 10.0; Win64; x64) AppleWebKit/537.36 (KHTML, like Gecko) Chrome/89.0.4389.114 Safari/537.36 Edg/89.0.774.68',\n",
    "}\n",
    "\n",
    "response = s.get('https://so.gushiwen.cn/RandCode.ashx', headers=headers)\n"
   ]
  },
  {
   "cell_type": "code",
   "execution_count": 3,
   "metadata": {},
   "outputs": [],
   "source": [
    "with open('验证码.png','wb')as f:\n",
    "    f.write(response.content)"
   ]
  },
  {
   "cell_type": "code",
   "execution_count": 4,
   "metadata": {},
   "outputs": [
    {
     "name": "stdout",
     "output_type": "stream",
     "text": [
      "请输入账号： 18811709839\n",
      "请输入密码： zzq19951008\n",
      "请输入验证码： MIIV\n"
     ]
    }
   ],
   "source": [
    "#建立一个post表单\n",
    "\n",
    "id = str(input('请输入账号： '))\n",
    "password = str(input('请输入密码： '))\n",
    "captcha = str(input('请输入验证码： '))"
   ]
  },
  {
   "cell_type": "code",
   "execution_count": 5,
   "metadata": {},
   "outputs": [],
   "source": [
    "data = {\n",
    "  '__VIEWSTATE': 'pBH6iDGqGqCm9dqQl80TWrt/gKSsC1mxpDa/I5en0khqgI80PtuqqaVp9HtFj24CDjY/aYi5d2ybmO72XCnY+BK/QZHLHnEDgNIetaDWgwKqx9zF5K3k30QFoHc=',\n",
    "  '__VIEWSTATEGENERATOR': 'C93BE1AE',\n",
    "  'from': '',\n",
    "  'email': id,\n",
    "  'pwd': password,\n",
    "  'code': captcha,\n",
    "  'denglu': '登录'\n",
    "}"
   ]
  },
  {
   "cell_type": "code",
   "execution_count": 6,
   "metadata": {},
   "outputs": [],
   "source": [
    "# 向网站服务器发起post请求\n",
    "r = s.post('https://so.gushiwen.cn/user/login.aspx', headers=headers, data=data)"
   ]
  },
  {
   "cell_type": "code",
   "execution_count": 7,
   "metadata": {},
   "outputs": [
    {
     "name": "stdout",
     "output_type": "stream",
     "text": [
      "成功登录，并获取网页！\n"
     ]
    }
   ],
   "source": [
    "# 获得登录后的页面\n",
    "with open('index.html','w',encoding=\"utf-8\")as fp:\n",
    "    fp.write(r.text)\n",
    "    print('成功登录，并获取网页！')"
   ]
  },
  {
   "cell_type": "code",
   "execution_count": null,
   "metadata": {},
   "outputs": [],
   "source": []
  }
 ],
 "metadata": {
  "kernelspec": {
   "display_name": "Python 3",
   "language": "python",
   "name": "python3"
  },
  "language_info": {
   "codemirror_mode": {
    "name": "ipython",
    "version": 3
   },
   "file_extension": ".py",
   "mimetype": "text/x-python",
   "name": "python",
   "nbconvert_exporter": "python",
   "pygments_lexer": "ipython3",
   "version": "3.7.4"
  }
 },
 "nbformat": 4,
 "nbformat_minor": 4
}
